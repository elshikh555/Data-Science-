{
 "cells": [
  {
   "cell_type": "code",
   "execution_count": 12,
   "id": "98d3ac41",
   "metadata": {},
   "outputs": [],
   "source": [
    "# 1. Imports & Loading Dataset\n",
    "import pandas as pd \n",
    "import numpy as np \n",
    "import matplotlib.pyplot as plt \n",
    "import seaborn as sns \n",
    "from scipy import stats\n",
    "import warnings \n",
    "warnings.filterwarnings('ignore')\n",
    "\n",
    "from datetime import date ,datetime, timedelta\n",
    "\n",
    "from sklearn.preprocessing import StandardScaler\n",
    "from sklearn.linear_model import LinearRegression\n",
    "from sklearn.model_selection import train_test_split\n",
    "from sklearn.metrics import mean_absolute_error , mean_squared_error , r2_score\n",
    "import sklearn.metrics as metrics \n",
    "from xgboost import XGBRegressor , plot_importance\n",
    "from sklearn.ensemble import RandomForestRegressor \n",
    "\n"
   ]
  },
  {
   "cell_type": "code",
   "execution_count": 2,
   "id": "75c1007e",
   "metadata": {},
   "outputs": [],
   "source": [
    "# For displaying all of the columns in dataframes\n",
    "pd.set_option('display.max_columns', None)"
   ]
  },
  {
   "cell_type": "code",
   "execution_count": 6,
   "id": "9c2502bd",
   "metadata": {},
   "outputs": [
    {
     "data": {
      "text/html": [
       "<div>\n",
       "<style scoped>\n",
       "    .dataframe tbody tr th:only-of-type {\n",
       "        vertical-align: middle;\n",
       "    }\n",
       "\n",
       "    .dataframe tbody tr th {\n",
       "        vertical-align: top;\n",
       "    }\n",
       "\n",
       "    .dataframe thead th {\n",
       "        text-align: right;\n",
       "    }\n",
       "</style>\n",
       "<table border=\"1\" class=\"dataframe\">\n",
       "  <thead>\n",
       "    <tr style=\"text-align: right;\">\n",
       "      <th></th>\n",
       "      <th>Unnamed: 0</th>\n",
       "      <th>VendorID</th>\n",
       "      <th>tpep_pickup_datetime</th>\n",
       "      <th>tpep_dropoff_datetime</th>\n",
       "      <th>passenger_count</th>\n",
       "      <th>trip_distance</th>\n",
       "      <th>RatecodeID</th>\n",
       "      <th>store_and_fwd_flag</th>\n",
       "      <th>PULocationID</th>\n",
       "      <th>DOLocationID</th>\n",
       "      <th>payment_type</th>\n",
       "      <th>fare_amount</th>\n",
       "      <th>extra</th>\n",
       "      <th>mta_tax</th>\n",
       "      <th>tip_amount</th>\n",
       "      <th>tolls_amount</th>\n",
       "      <th>improvement_surcharge</th>\n",
       "      <th>total_amount</th>\n",
       "    </tr>\n",
       "  </thead>\n",
       "  <tbody>\n",
       "    <tr>\n",
       "      <th>0</th>\n",
       "      <td>24870114</td>\n",
       "      <td>2</td>\n",
       "      <td>03/25/2017 8:55:43 AM</td>\n",
       "      <td>03/25/2017 9:09:47 AM</td>\n",
       "      <td>6</td>\n",
       "      <td>3.34</td>\n",
       "      <td>1</td>\n",
       "      <td>N</td>\n",
       "      <td>100</td>\n",
       "      <td>231</td>\n",
       "      <td>1</td>\n",
       "      <td>13.0</td>\n",
       "      <td>0.0</td>\n",
       "      <td>0.5</td>\n",
       "      <td>2.76</td>\n",
       "      <td>0.0</td>\n",
       "      <td>0.3</td>\n",
       "      <td>16.56</td>\n",
       "    </tr>\n",
       "    <tr>\n",
       "      <th>1</th>\n",
       "      <td>35634249</td>\n",
       "      <td>1</td>\n",
       "      <td>04/11/2017 14:53</td>\n",
       "      <td>04/11/2017 15:19</td>\n",
       "      <td>1</td>\n",
       "      <td>1.80</td>\n",
       "      <td>1</td>\n",
       "      <td>N</td>\n",
       "      <td>186</td>\n",
       "      <td>43</td>\n",
       "      <td>1</td>\n",
       "      <td>16.0</td>\n",
       "      <td>0.0</td>\n",
       "      <td>0.5</td>\n",
       "      <td>4.00</td>\n",
       "      <td>0.0</td>\n",
       "      <td>0.3</td>\n",
       "      <td>20.80</td>\n",
       "    </tr>\n",
       "    <tr>\n",
       "      <th>2</th>\n",
       "      <td>106203690</td>\n",
       "      <td>1</td>\n",
       "      <td>12/15/2017 7:26:56 AM</td>\n",
       "      <td>12/15/2017 7:34:08 AM</td>\n",
       "      <td>1</td>\n",
       "      <td>1.00</td>\n",
       "      <td>1</td>\n",
       "      <td>N</td>\n",
       "      <td>262</td>\n",
       "      <td>236</td>\n",
       "      <td>1</td>\n",
       "      <td>6.5</td>\n",
       "      <td>0.0</td>\n",
       "      <td>0.5</td>\n",
       "      <td>1.45</td>\n",
       "      <td>0.0</td>\n",
       "      <td>0.3</td>\n",
       "      <td>8.75</td>\n",
       "    </tr>\n",
       "    <tr>\n",
       "      <th>3</th>\n",
       "      <td>38942136</td>\n",
       "      <td>2</td>\n",
       "      <td>05/07/2017 13:17</td>\n",
       "      <td>05/07/2017 13:48</td>\n",
       "      <td>1</td>\n",
       "      <td>3.70</td>\n",
       "      <td>1</td>\n",
       "      <td>N</td>\n",
       "      <td>188</td>\n",
       "      <td>97</td>\n",
       "      <td>1</td>\n",
       "      <td>20.5</td>\n",
       "      <td>0.0</td>\n",
       "      <td>0.5</td>\n",
       "      <td>6.39</td>\n",
       "      <td>0.0</td>\n",
       "      <td>0.3</td>\n",
       "      <td>27.69</td>\n",
       "    </tr>\n",
       "    <tr>\n",
       "      <th>4</th>\n",
       "      <td>30841670</td>\n",
       "      <td>2</td>\n",
       "      <td>04/15/2017 11:32:20 PM</td>\n",
       "      <td>04/15/2017 11:49:03 PM</td>\n",
       "      <td>1</td>\n",
       "      <td>4.37</td>\n",
       "      <td>1</td>\n",
       "      <td>N</td>\n",
       "      <td>4</td>\n",
       "      <td>112</td>\n",
       "      <td>2</td>\n",
       "      <td>16.5</td>\n",
       "      <td>0.5</td>\n",
       "      <td>0.5</td>\n",
       "      <td>0.00</td>\n",
       "      <td>0.0</td>\n",
       "      <td>0.3</td>\n",
       "      <td>17.80</td>\n",
       "    </tr>\n",
       "    <tr>\n",
       "      <th>5</th>\n",
       "      <td>23345809</td>\n",
       "      <td>2</td>\n",
       "      <td>03/25/2017 8:34:11 PM</td>\n",
       "      <td>03/25/2017 8:42:11 PM</td>\n",
       "      <td>6</td>\n",
       "      <td>2.30</td>\n",
       "      <td>1</td>\n",
       "      <td>N</td>\n",
       "      <td>161</td>\n",
       "      <td>236</td>\n",
       "      <td>1</td>\n",
       "      <td>9.0</td>\n",
       "      <td>0.5</td>\n",
       "      <td>0.5</td>\n",
       "      <td>2.06</td>\n",
       "      <td>0.0</td>\n",
       "      <td>0.3</td>\n",
       "      <td>12.36</td>\n",
       "    </tr>\n",
       "    <tr>\n",
       "      <th>6</th>\n",
       "      <td>37660487</td>\n",
       "      <td>2</td>\n",
       "      <td>05/03/2017 19:04</td>\n",
       "      <td>05/03/2017 20:03</td>\n",
       "      <td>1</td>\n",
       "      <td>12.83</td>\n",
       "      <td>1</td>\n",
       "      <td>N</td>\n",
       "      <td>79</td>\n",
       "      <td>241</td>\n",
       "      <td>1</td>\n",
       "      <td>47.5</td>\n",
       "      <td>1.0</td>\n",
       "      <td>0.5</td>\n",
       "      <td>9.86</td>\n",
       "      <td>0.0</td>\n",
       "      <td>0.3</td>\n",
       "      <td>59.16</td>\n",
       "    </tr>\n",
       "    <tr>\n",
       "      <th>7</th>\n",
       "      <td>69059411</td>\n",
       "      <td>2</td>\n",
       "      <td>08/15/2017 5:41:06 PM</td>\n",
       "      <td>08/15/2017 6:03:05 PM</td>\n",
       "      <td>1</td>\n",
       "      <td>2.98</td>\n",
       "      <td>1</td>\n",
       "      <td>N</td>\n",
       "      <td>237</td>\n",
       "      <td>114</td>\n",
       "      <td>1</td>\n",
       "      <td>16.0</td>\n",
       "      <td>1.0</td>\n",
       "      <td>0.5</td>\n",
       "      <td>1.78</td>\n",
       "      <td>0.0</td>\n",
       "      <td>0.3</td>\n",
       "      <td>19.58</td>\n",
       "    </tr>\n",
       "    <tr>\n",
       "      <th>8</th>\n",
       "      <td>8433159</td>\n",
       "      <td>2</td>\n",
       "      <td>02/04/2017 16:17</td>\n",
       "      <td>02/04/2017 16:29</td>\n",
       "      <td>1</td>\n",
       "      <td>1.20</td>\n",
       "      <td>1</td>\n",
       "      <td>N</td>\n",
       "      <td>234</td>\n",
       "      <td>249</td>\n",
       "      <td>2</td>\n",
       "      <td>9.0</td>\n",
       "      <td>0.0</td>\n",
       "      <td>0.5</td>\n",
       "      <td>0.00</td>\n",
       "      <td>0.0</td>\n",
       "      <td>0.3</td>\n",
       "      <td>9.80</td>\n",
       "    </tr>\n",
       "    <tr>\n",
       "      <th>9</th>\n",
       "      <td>95294817</td>\n",
       "      <td>1</td>\n",
       "      <td>11/10/2017 15:20</td>\n",
       "      <td>11/10/2017 15:40</td>\n",
       "      <td>1</td>\n",
       "      <td>1.60</td>\n",
       "      <td>1</td>\n",
       "      <td>N</td>\n",
       "      <td>239</td>\n",
       "      <td>237</td>\n",
       "      <td>1</td>\n",
       "      <td>13.0</td>\n",
       "      <td>0.0</td>\n",
       "      <td>0.5</td>\n",
       "      <td>2.75</td>\n",
       "      <td>0.0</td>\n",
       "      <td>0.3</td>\n",
       "      <td>16.55</td>\n",
       "    </tr>\n",
       "  </tbody>\n",
       "</table>\n",
       "</div>"
      ],
      "text/plain": [
       "   Unnamed: 0  VendorID    tpep_pickup_datetime   tpep_dropoff_datetime  \\\n",
       "0    24870114         2   03/25/2017 8:55:43 AM   03/25/2017 9:09:47 AM   \n",
       "1    35634249         1        04/11/2017 14:53        04/11/2017 15:19   \n",
       "2   106203690         1   12/15/2017 7:26:56 AM   12/15/2017 7:34:08 AM   \n",
       "3    38942136         2        05/07/2017 13:17        05/07/2017 13:48   \n",
       "4    30841670         2  04/15/2017 11:32:20 PM  04/15/2017 11:49:03 PM   \n",
       "5    23345809         2   03/25/2017 8:34:11 PM   03/25/2017 8:42:11 PM   \n",
       "6    37660487         2        05/03/2017 19:04        05/03/2017 20:03   \n",
       "7    69059411         2   08/15/2017 5:41:06 PM   08/15/2017 6:03:05 PM   \n",
       "8     8433159         2        02/04/2017 16:17        02/04/2017 16:29   \n",
       "9    95294817         1        11/10/2017 15:20        11/10/2017 15:40   \n",
       "\n",
       "   passenger_count  trip_distance  RatecodeID store_and_fwd_flag  \\\n",
       "0                6           3.34           1                  N   \n",
       "1                1           1.80           1                  N   \n",
       "2                1           1.00           1                  N   \n",
       "3                1           3.70           1                  N   \n",
       "4                1           4.37           1                  N   \n",
       "5                6           2.30           1                  N   \n",
       "6                1          12.83           1                  N   \n",
       "7                1           2.98           1                  N   \n",
       "8                1           1.20           1                  N   \n",
       "9                1           1.60           1                  N   \n",
       "\n",
       "   PULocationID  DOLocationID  payment_type  fare_amount  extra  mta_tax  \\\n",
       "0           100           231             1         13.0    0.0      0.5   \n",
       "1           186            43             1         16.0    0.0      0.5   \n",
       "2           262           236             1          6.5    0.0      0.5   \n",
       "3           188            97             1         20.5    0.0      0.5   \n",
       "4             4           112             2         16.5    0.5      0.5   \n",
       "5           161           236             1          9.0    0.5      0.5   \n",
       "6            79           241             1         47.5    1.0      0.5   \n",
       "7           237           114             1         16.0    1.0      0.5   \n",
       "8           234           249             2          9.0    0.0      0.5   \n",
       "9           239           237             1         13.0    0.0      0.5   \n",
       "\n",
       "   tip_amount  tolls_amount  improvement_surcharge  total_amount  \n",
       "0        2.76           0.0                    0.3         16.56  \n",
       "1        4.00           0.0                    0.3         20.80  \n",
       "2        1.45           0.0                    0.3          8.75  \n",
       "3        6.39           0.0                    0.3         27.69  \n",
       "4        0.00           0.0                    0.3         17.80  \n",
       "5        2.06           0.0                    0.3         12.36  \n",
       "6        9.86           0.0                    0.3         59.16  \n",
       "7        1.78           0.0                    0.3         19.58  \n",
       "8        0.00           0.0                    0.3          9.80  \n",
       "9        2.75           0.0                    0.3         16.55  "
      ]
     },
     "execution_count": 6,
     "metadata": {},
     "output_type": "execute_result"
    }
   ],
   "source": [
    "df = pd.read_csv(r'C:\\Users\\eslam\\Desktop\\TLC\\2017_Yellow_Taxi_Trip_Data.csv')\n",
    "df.head()"
   ]
  },
  {
   "cell_type": "markdown",
   "id": "0e19db30",
   "metadata": {},
   "source": [
    "# 2.Data Exploration (Initial EDA and data cleaning)\n"
   ]
  },
  {
   "cell_type": "code",
   "execution_count": 9,
   "id": "86b69bae",
   "metadata": {},
   "outputs": [
    {
     "name": "stdout",
     "output_type": "stream",
     "text": [
      "<class 'pandas.core.frame.DataFrame'>\n",
      "RangeIndex: 22699 entries, 0 to 22698\n",
      "Data columns (total 18 columns):\n",
      " #   Column                 Non-Null Count  Dtype  \n",
      "---  ------                 --------------  -----  \n",
      " 0   Unnamed: 0             22699 non-null  int64  \n",
      " 1   VendorID               22699 non-null  int64  \n",
      " 2   tpep_pickup_datetime   22699 non-null  object \n",
      " 3   tpep_dropoff_datetime  22699 non-null  object \n",
      " 4   passenger_count        22699 non-null  int64  \n",
      " 5   trip_distance          22699 non-null  float64\n",
      " 6   RatecodeID             22699 non-null  int64  \n",
      " 7   store_and_fwd_flag     22699 non-null  object \n",
      " 8   PULocationID           22699 non-null  int64  \n",
      " 9   DOLocationID           22699 non-null  int64  \n",
      " 10  payment_type           22699 non-null  int64  \n",
      " 11  fare_amount            22699 non-null  float64\n",
      " 12  extra                  22699 non-null  float64\n",
      " 13  mta_tax                22699 non-null  float64\n",
      " 14  tip_amount             22699 non-null  float64\n",
      " 15  tolls_amount           22699 non-null  float64\n",
      " 16  improvement_surcharge  22699 non-null  float64\n",
      " 17  total_amount           22699 non-null  float64\n",
      "dtypes: float64(8), int64(7), object(3)\n",
      "memory usage: 3.1+ MB\n"
     ]
    }
   ],
   "source": [
    "df.info()\n"
   ]
  },
  {
   "cell_type": "code",
   "execution_count": 13,
   "id": "43031d50",
   "metadata": {},
   "outputs": [
    {
     "data": {
      "text/html": [
       "<div>\n",
       "<style scoped>\n",
       "    .dataframe tbody tr th:only-of-type {\n",
       "        vertical-align: middle;\n",
       "    }\n",
       "\n",
       "    .dataframe tbody tr th {\n",
       "        vertical-align: top;\n",
       "    }\n",
       "\n",
       "    .dataframe thead th {\n",
       "        text-align: right;\n",
       "    }\n",
       "</style>\n",
       "<table border=\"1\" class=\"dataframe\">\n",
       "  <thead>\n",
       "    <tr style=\"text-align: right;\">\n",
       "      <th></th>\n",
       "      <th>count</th>\n",
       "      <th>unique</th>\n",
       "      <th>top</th>\n",
       "      <th>freq</th>\n",
       "      <th>mean</th>\n",
       "      <th>std</th>\n",
       "      <th>min</th>\n",
       "      <th>25%</th>\n",
       "      <th>50%</th>\n",
       "      <th>75%</th>\n",
       "      <th>max</th>\n",
       "    </tr>\n",
       "  </thead>\n",
       "  <tbody>\n",
       "    <tr>\n",
       "      <th>Unnamed: 0</th>\n",
       "      <td>22699.0</td>\n",
       "      <td>NaN</td>\n",
       "      <td>NaN</td>\n",
       "      <td>NaN</td>\n",
       "      <td>56758486.171285</td>\n",
       "      <td>32744929.492148</td>\n",
       "      <td>12127.0</td>\n",
       "      <td>28520556.0</td>\n",
       "      <td>56731504.0</td>\n",
       "      <td>85374524.0</td>\n",
       "      <td>113486300.0</td>\n",
       "    </tr>\n",
       "    <tr>\n",
       "      <th>VendorID</th>\n",
       "      <td>22699.0</td>\n",
       "      <td>NaN</td>\n",
       "      <td>NaN</td>\n",
       "      <td>NaN</td>\n",
       "      <td>1.556236</td>\n",
       "      <td>0.496838</td>\n",
       "      <td>1.0</td>\n",
       "      <td>1.0</td>\n",
       "      <td>2.0</td>\n",
       "      <td>2.0</td>\n",
       "      <td>2.0</td>\n",
       "    </tr>\n",
       "    <tr>\n",
       "      <th>tpep_pickup_datetime</th>\n",
       "      <td>22699</td>\n",
       "      <td>22435</td>\n",
       "      <td>02/01/2017 21:08</td>\n",
       "      <td>3</td>\n",
       "      <td>NaN</td>\n",
       "      <td>NaN</td>\n",
       "      <td>NaN</td>\n",
       "      <td>NaN</td>\n",
       "      <td>NaN</td>\n",
       "      <td>NaN</td>\n",
       "      <td>NaN</td>\n",
       "    </tr>\n",
       "    <tr>\n",
       "      <th>tpep_dropoff_datetime</th>\n",
       "      <td>22699</td>\n",
       "      <td>22451</td>\n",
       "      <td>11/10/2017 19:33</td>\n",
       "      <td>3</td>\n",
       "      <td>NaN</td>\n",
       "      <td>NaN</td>\n",
       "      <td>NaN</td>\n",
       "      <td>NaN</td>\n",
       "      <td>NaN</td>\n",
       "      <td>NaN</td>\n",
       "      <td>NaN</td>\n",
       "    </tr>\n",
       "    <tr>\n",
       "      <th>passenger_count</th>\n",
       "      <td>22699.0</td>\n",
       "      <td>NaN</td>\n",
       "      <td>NaN</td>\n",
       "      <td>NaN</td>\n",
       "      <td>1.642319</td>\n",
       "      <td>1.285231</td>\n",
       "      <td>0.0</td>\n",
       "      <td>1.0</td>\n",
       "      <td>1.0</td>\n",
       "      <td>2.0</td>\n",
       "      <td>6.0</td>\n",
       "    </tr>\n",
       "    <tr>\n",
       "      <th>trip_distance</th>\n",
       "      <td>22699.0</td>\n",
       "      <td>NaN</td>\n",
       "      <td>NaN</td>\n",
       "      <td>NaN</td>\n",
       "      <td>2.913313</td>\n",
       "      <td>3.653171</td>\n",
       "      <td>0.0</td>\n",
       "      <td>0.99</td>\n",
       "      <td>1.61</td>\n",
       "      <td>3.06</td>\n",
       "      <td>33.96</td>\n",
       "    </tr>\n",
       "    <tr>\n",
       "      <th>RatecodeID</th>\n",
       "      <td>22699.0</td>\n",
       "      <td>NaN</td>\n",
       "      <td>NaN</td>\n",
       "      <td>NaN</td>\n",
       "      <td>1.043394</td>\n",
       "      <td>0.708391</td>\n",
       "      <td>1.0</td>\n",
       "      <td>1.0</td>\n",
       "      <td>1.0</td>\n",
       "      <td>1.0</td>\n",
       "      <td>99.0</td>\n",
       "    </tr>\n",
       "    <tr>\n",
       "      <th>store_and_fwd_flag</th>\n",
       "      <td>22699</td>\n",
       "      <td>2</td>\n",
       "      <td>N</td>\n",
       "      <td>22600</td>\n",
       "      <td>NaN</td>\n",
       "      <td>NaN</td>\n",
       "      <td>NaN</td>\n",
       "      <td>NaN</td>\n",
       "      <td>NaN</td>\n",
       "      <td>NaN</td>\n",
       "      <td>NaN</td>\n",
       "    </tr>\n",
       "    <tr>\n",
       "      <th>PULocationID</th>\n",
       "      <td>22699.0</td>\n",
       "      <td>NaN</td>\n",
       "      <td>NaN</td>\n",
       "      <td>NaN</td>\n",
       "      <td>162.412353</td>\n",
       "      <td>66.633373</td>\n",
       "      <td>1.0</td>\n",
       "      <td>114.0</td>\n",
       "      <td>162.0</td>\n",
       "      <td>233.0</td>\n",
       "      <td>265.0</td>\n",
       "    </tr>\n",
       "    <tr>\n",
       "      <th>DOLocationID</th>\n",
       "      <td>22699.0</td>\n",
       "      <td>NaN</td>\n",
       "      <td>NaN</td>\n",
       "      <td>NaN</td>\n",
       "      <td>161.527997</td>\n",
       "      <td>70.139691</td>\n",
       "      <td>1.0</td>\n",
       "      <td>112.0</td>\n",
       "      <td>162.0</td>\n",
       "      <td>233.0</td>\n",
       "      <td>265.0</td>\n",
       "    </tr>\n",
       "    <tr>\n",
       "      <th>payment_type</th>\n",
       "      <td>22699.0</td>\n",
       "      <td>NaN</td>\n",
       "      <td>NaN</td>\n",
       "      <td>NaN</td>\n",
       "      <td>1.336887</td>\n",
       "      <td>0.496211</td>\n",
       "      <td>1.0</td>\n",
       "      <td>1.0</td>\n",
       "      <td>1.0</td>\n",
       "      <td>2.0</td>\n",
       "      <td>4.0</td>\n",
       "    </tr>\n",
       "    <tr>\n",
       "      <th>fare_amount</th>\n",
       "      <td>22699.0</td>\n",
       "      <td>NaN</td>\n",
       "      <td>NaN</td>\n",
       "      <td>NaN</td>\n",
       "      <td>13.026629</td>\n",
       "      <td>13.243791</td>\n",
       "      <td>-120.0</td>\n",
       "      <td>6.5</td>\n",
       "      <td>9.5</td>\n",
       "      <td>14.5</td>\n",
       "      <td>999.99</td>\n",
       "    </tr>\n",
       "    <tr>\n",
       "      <th>extra</th>\n",
       "      <td>22699.0</td>\n",
       "      <td>NaN</td>\n",
       "      <td>NaN</td>\n",
       "      <td>NaN</td>\n",
       "      <td>0.333275</td>\n",
       "      <td>0.463097</td>\n",
       "      <td>-1.0</td>\n",
       "      <td>0.0</td>\n",
       "      <td>0.0</td>\n",
       "      <td>0.5</td>\n",
       "      <td>4.5</td>\n",
       "    </tr>\n",
       "    <tr>\n",
       "      <th>mta_tax</th>\n",
       "      <td>22699.0</td>\n",
       "      <td>NaN</td>\n",
       "      <td>NaN</td>\n",
       "      <td>NaN</td>\n",
       "      <td>0.497445</td>\n",
       "      <td>0.039465</td>\n",
       "      <td>-0.5</td>\n",
       "      <td>0.5</td>\n",
       "      <td>0.5</td>\n",
       "      <td>0.5</td>\n",
       "      <td>0.5</td>\n",
       "    </tr>\n",
       "    <tr>\n",
       "      <th>tip_amount</th>\n",
       "      <td>22699.0</td>\n",
       "      <td>NaN</td>\n",
       "      <td>NaN</td>\n",
       "      <td>NaN</td>\n",
       "      <td>1.835781</td>\n",
       "      <td>2.800626</td>\n",
       "      <td>0.0</td>\n",
       "      <td>0.0</td>\n",
       "      <td>1.35</td>\n",
       "      <td>2.45</td>\n",
       "      <td>200.0</td>\n",
       "    </tr>\n",
       "    <tr>\n",
       "      <th>tolls_amount</th>\n",
       "      <td>22699.0</td>\n",
       "      <td>NaN</td>\n",
       "      <td>NaN</td>\n",
       "      <td>NaN</td>\n",
       "      <td>0.312542</td>\n",
       "      <td>1.399212</td>\n",
       "      <td>0.0</td>\n",
       "      <td>0.0</td>\n",
       "      <td>0.0</td>\n",
       "      <td>0.0</td>\n",
       "      <td>19.1</td>\n",
       "    </tr>\n",
       "    <tr>\n",
       "      <th>improvement_surcharge</th>\n",
       "      <td>22699.0</td>\n",
       "      <td>NaN</td>\n",
       "      <td>NaN</td>\n",
       "      <td>NaN</td>\n",
       "      <td>0.299551</td>\n",
       "      <td>0.015673</td>\n",
       "      <td>-0.3</td>\n",
       "      <td>0.3</td>\n",
       "      <td>0.3</td>\n",
       "      <td>0.3</td>\n",
       "      <td>0.3</td>\n",
       "    </tr>\n",
       "    <tr>\n",
       "      <th>total_amount</th>\n",
       "      <td>22699.0</td>\n",
       "      <td>NaN</td>\n",
       "      <td>NaN</td>\n",
       "      <td>NaN</td>\n",
       "      <td>16.310502</td>\n",
       "      <td>16.097295</td>\n",
       "      <td>-120.3</td>\n",
       "      <td>8.75</td>\n",
       "      <td>11.8</td>\n",
       "      <td>17.8</td>\n",
       "      <td>1200.29</td>\n",
       "    </tr>\n",
       "  </tbody>\n",
       "</table>\n",
       "</div>"
      ],
      "text/plain": [
       "                         count unique               top   freq  \\\n",
       "Unnamed: 0             22699.0    NaN               NaN    NaN   \n",
       "VendorID               22699.0    NaN               NaN    NaN   \n",
       "tpep_pickup_datetime     22699  22435  02/01/2017 21:08      3   \n",
       "tpep_dropoff_datetime    22699  22451  11/10/2017 19:33      3   \n",
       "passenger_count        22699.0    NaN               NaN    NaN   \n",
       "trip_distance          22699.0    NaN               NaN    NaN   \n",
       "RatecodeID             22699.0    NaN               NaN    NaN   \n",
       "store_and_fwd_flag       22699      2                 N  22600   \n",
       "PULocationID           22699.0    NaN               NaN    NaN   \n",
       "DOLocationID           22699.0    NaN               NaN    NaN   \n",
       "payment_type           22699.0    NaN               NaN    NaN   \n",
       "fare_amount            22699.0    NaN               NaN    NaN   \n",
       "extra                  22699.0    NaN               NaN    NaN   \n",
       "mta_tax                22699.0    NaN               NaN    NaN   \n",
       "tip_amount             22699.0    NaN               NaN    NaN   \n",
       "tolls_amount           22699.0    NaN               NaN    NaN   \n",
       "improvement_surcharge  22699.0    NaN               NaN    NaN   \n",
       "total_amount           22699.0    NaN               NaN    NaN   \n",
       "\n",
       "                                  mean              std      min         25%  \\\n",
       "Unnamed: 0             56758486.171285  32744929.492148  12127.0  28520556.0   \n",
       "VendorID                      1.556236         0.496838      1.0         1.0   \n",
       "tpep_pickup_datetime               NaN              NaN      NaN         NaN   \n",
       "tpep_dropoff_datetime              NaN              NaN      NaN         NaN   \n",
       "passenger_count               1.642319         1.285231      0.0         1.0   \n",
       "trip_distance                 2.913313         3.653171      0.0        0.99   \n",
       "RatecodeID                    1.043394         0.708391      1.0         1.0   \n",
       "store_and_fwd_flag                 NaN              NaN      NaN         NaN   \n",
       "PULocationID                162.412353        66.633373      1.0       114.0   \n",
       "DOLocationID                161.527997        70.139691      1.0       112.0   \n",
       "payment_type                  1.336887         0.496211      1.0         1.0   \n",
       "fare_amount                  13.026629        13.243791   -120.0         6.5   \n",
       "extra                         0.333275         0.463097     -1.0         0.0   \n",
       "mta_tax                       0.497445         0.039465     -0.5         0.5   \n",
       "tip_amount                    1.835781         2.800626      0.0         0.0   \n",
       "tolls_amount                  0.312542         1.399212      0.0         0.0   \n",
       "improvement_surcharge         0.299551         0.015673     -0.3         0.3   \n",
       "total_amount                 16.310502        16.097295   -120.3        8.75   \n",
       "\n",
       "                              50%         75%          max  \n",
       "Unnamed: 0             56731504.0  85374524.0  113486300.0  \n",
       "VendorID                      2.0         2.0          2.0  \n",
       "tpep_pickup_datetime          NaN         NaN          NaN  \n",
       "tpep_dropoff_datetime         NaN         NaN          NaN  \n",
       "passenger_count               1.0         2.0          6.0  \n",
       "trip_distance                1.61        3.06        33.96  \n",
       "RatecodeID                    1.0         1.0         99.0  \n",
       "store_and_fwd_flag            NaN         NaN          NaN  \n",
       "PULocationID                162.0       233.0        265.0  \n",
       "DOLocationID                162.0       233.0        265.0  \n",
       "payment_type                  1.0         2.0          4.0  \n",
       "fare_amount                   9.5        14.5       999.99  \n",
       "extra                         0.0         0.5          4.5  \n",
       "mta_tax                       0.5         0.5          0.5  \n",
       "tip_amount                   1.35        2.45        200.0  \n",
       "tolls_amount                  0.0         0.0         19.1  \n",
       "improvement_surcharge         0.3         0.3          0.3  \n",
       "total_amount                 11.8        17.8      1200.29  "
      ]
     },
     "execution_count": 13,
     "metadata": {},
     "output_type": "execute_result"
    }
   ],
   "source": [
    "df.describe(include='all').T"
   ]
  },
  {
   "cell_type": "code",
   "execution_count": 14,
   "id": "32a2b9bf",
   "metadata": {},
   "outputs": [
    {
     "data": {
      "text/plain": [
       "Unnamed: 0               0\n",
       "VendorID                 0\n",
       "tpep_pickup_datetime     0\n",
       "tpep_dropoff_datetime    0\n",
       "passenger_count          0\n",
       "trip_distance            0\n",
       "RatecodeID               0\n",
       "store_and_fwd_flag       0\n",
       "PULocationID             0\n",
       "DOLocationID             0\n",
       "payment_type             0\n",
       "fare_amount              0\n",
       "extra                    0\n",
       "mta_tax                  0\n",
       "tip_amount               0\n",
       "tolls_amount             0\n",
       "improvement_surcharge    0\n",
       "total_amount             0\n",
       "dtype: int64"
      ]
     },
     "execution_count": 14,
     "metadata": {},
     "output_type": "execute_result"
    }
   ],
   "source": [
    "#check missing values \n",
    "df.isna().sum()"
   ]
  },
  {
   "cell_type": "code",
   "execution_count": 16,
   "id": "67753ab8",
   "metadata": {},
   "outputs": [
    {
     "data": {
      "text/plain": [
       "0"
      ]
     },
     "execution_count": 16,
     "metadata": {},
     "output_type": "execute_result"
    }
   ],
   "source": [
    "df.duplicated().sum()"
   ]
  },
  {
   "cell_type": "code",
   "execution_count": 22,
   "id": "be53a023",
   "metadata": {},
   "outputs": [
    {
     "data": {
      "text/plain": [
       "tpep_pickup_datetime     object\n",
       "tpep_dropoff_datetime    object\n",
       "dtype: object"
      ]
     },
     "execution_count": 22,
     "metadata": {},
     "output_type": "execute_result"
    }
   ],
   "source": [
    "#comvert pickup & dropoff columns to datetime \n",
    "df[['tpep_pickup_datetime','tpep_dropoff_datetime']].dtypes"
   ]
  },
  {
   "cell_type": "code",
   "execution_count": 27,
   "id": "550a50e6",
   "metadata": {},
   "outputs": [
    {
     "data": {
      "text/plain": [
       "tpep_pickup_datetime     datetime64[ns]\n",
       "tpep_dropoff_datetime    datetime64[ns]\n",
       "dtype: object"
      ]
     },
     "execution_count": 27,
     "metadata": {},
     "output_type": "execute_result"
    }
   ],
   "source": [
    "df['tpep_pickup_datetime'] = pd.to_datetime(df['tpep_pickup_datetime'] )\n",
    "df['tpep_dropoff_datetime'] = pd.to_datetime(df['tpep_dropoff_datetime'] )\n",
    "df[['tpep_pickup_datetime','tpep_dropoff_datetime']].dtypes"
   ]
  },
  {
   "cell_type": "code",
   "execution_count": 31,
   "id": "b04c3ef2",
   "metadata": {},
   "outputs": [
    {
     "data": {
      "text/plain": [
       "count    22699.000000\n",
       "mean        17.010830\n",
       "std         61.996458\n",
       "min        -17.000000\n",
       "25%          6.750000\n",
       "50%         11.000000\n",
       "75%         18.258333\n",
       "max       1440.000000\n",
       "Name: trip_duration, dtype: float64"
      ]
     },
     "execution_count": 31,
     "metadata": {},
     "output_type": "execute_result"
    }
   ],
   "source": [
    "#create duration column\n",
    "df['trip_duration'] = (df['tpep_dropoff_datetime'] - df['tpep_pickup_datetime'])/np.timedelta64(1,'m')\n",
    "df['trip_duration'].describe()"
   ]
  },
  {
   "cell_type": "code",
   "execution_count": 39,
   "id": "560d6c6f",
   "metadata": {},
   "outputs": [
    {
     "data": {
      "text/html": [
       "<div>\n",
       "<style scoped>\n",
       "    .dataframe tbody tr th:only-of-type {\n",
       "        vertical-align: middle;\n",
       "    }\n",
       "\n",
       "    .dataframe tbody tr th {\n",
       "        vertical-align: top;\n",
       "    }\n",
       "\n",
       "    .dataframe thead th {\n",
       "        text-align: right;\n",
       "    }\n",
       "</style>\n",
       "<table border=\"1\" class=\"dataframe\">\n",
       "  <thead>\n",
       "    <tr style=\"text-align: right;\">\n",
       "      <th></th>\n",
       "      <th>count</th>\n",
       "      <th>mean</th>\n",
       "      <th>std</th>\n",
       "      <th>min</th>\n",
       "      <th>50%</th>\n",
       "      <th>max</th>\n",
       "    </tr>\n",
       "  </thead>\n",
       "  <tbody>\n",
       "    <tr>\n",
       "      <th>Unnamed: 0</th>\n",
       "      <td>22699.0</td>\n",
       "      <td>56758486.2</td>\n",
       "      <td>32744929.5</td>\n",
       "      <td>12127.0</td>\n",
       "      <td>56731504.0</td>\n",
       "      <td>113486300.0</td>\n",
       "    </tr>\n",
       "    <tr>\n",
       "      <th>VendorID</th>\n",
       "      <td>22699.0</td>\n",
       "      <td>1.6</td>\n",
       "      <td>0.5</td>\n",
       "      <td>1.0</td>\n",
       "      <td>2.0</td>\n",
       "      <td>2.0</td>\n",
       "    </tr>\n",
       "    <tr>\n",
       "      <th>passenger_count</th>\n",
       "      <td>22699.0</td>\n",
       "      <td>1.6</td>\n",
       "      <td>1.3</td>\n",
       "      <td>0.0</td>\n",
       "      <td>1.0</td>\n",
       "      <td>6.0</td>\n",
       "    </tr>\n",
       "    <tr>\n",
       "      <th>trip_distance</th>\n",
       "      <td>22699.0</td>\n",
       "      <td>2.9</td>\n",
       "      <td>3.7</td>\n",
       "      <td>0.0</td>\n",
       "      <td>1.6</td>\n",
       "      <td>34.0</td>\n",
       "    </tr>\n",
       "    <tr>\n",
       "      <th>RatecodeID</th>\n",
       "      <td>22699.0</td>\n",
       "      <td>1.0</td>\n",
       "      <td>0.7</td>\n",
       "      <td>1.0</td>\n",
       "      <td>1.0</td>\n",
       "      <td>99.0</td>\n",
       "    </tr>\n",
       "    <tr>\n",
       "      <th>PULocationID</th>\n",
       "      <td>22699.0</td>\n",
       "      <td>162.4</td>\n",
       "      <td>66.6</td>\n",
       "      <td>1.0</td>\n",
       "      <td>162.0</td>\n",
       "      <td>265.0</td>\n",
       "    </tr>\n",
       "    <tr>\n",
       "      <th>DOLocationID</th>\n",
       "      <td>22699.0</td>\n",
       "      <td>161.5</td>\n",
       "      <td>70.1</td>\n",
       "      <td>1.0</td>\n",
       "      <td>162.0</td>\n",
       "      <td>265.0</td>\n",
       "    </tr>\n",
       "    <tr>\n",
       "      <th>payment_type</th>\n",
       "      <td>22699.0</td>\n",
       "      <td>1.3</td>\n",
       "      <td>0.5</td>\n",
       "      <td>1.0</td>\n",
       "      <td>1.0</td>\n",
       "      <td>4.0</td>\n",
       "    </tr>\n",
       "    <tr>\n",
       "      <th>fare_amount</th>\n",
       "      <td>22699.0</td>\n",
       "      <td>13.0</td>\n",
       "      <td>13.2</td>\n",
       "      <td>-120.0</td>\n",
       "      <td>9.5</td>\n",
       "      <td>1000.0</td>\n",
       "    </tr>\n",
       "    <tr>\n",
       "      <th>extra</th>\n",
       "      <td>22699.0</td>\n",
       "      <td>0.3</td>\n",
       "      <td>0.5</td>\n",
       "      <td>-1.0</td>\n",
       "      <td>0.0</td>\n",
       "      <td>4.5</td>\n",
       "    </tr>\n",
       "    <tr>\n",
       "      <th>mta_tax</th>\n",
       "      <td>22699.0</td>\n",
       "      <td>0.5</td>\n",
       "      <td>0.0</td>\n",
       "      <td>-0.5</td>\n",
       "      <td>0.5</td>\n",
       "      <td>0.5</td>\n",
       "    </tr>\n",
       "    <tr>\n",
       "      <th>tip_amount</th>\n",
       "      <td>22699.0</td>\n",
       "      <td>1.8</td>\n",
       "      <td>2.8</td>\n",
       "      <td>0.0</td>\n",
       "      <td>1.4</td>\n",
       "      <td>200.0</td>\n",
       "    </tr>\n",
       "    <tr>\n",
       "      <th>tolls_amount</th>\n",
       "      <td>22699.0</td>\n",
       "      <td>0.3</td>\n",
       "      <td>1.4</td>\n",
       "      <td>0.0</td>\n",
       "      <td>0.0</td>\n",
       "      <td>19.1</td>\n",
       "    </tr>\n",
       "    <tr>\n",
       "      <th>improvement_surcharge</th>\n",
       "      <td>22699.0</td>\n",
       "      <td>0.3</td>\n",
       "      <td>0.0</td>\n",
       "      <td>-0.3</td>\n",
       "      <td>0.3</td>\n",
       "      <td>0.3</td>\n",
       "    </tr>\n",
       "    <tr>\n",
       "      <th>total_amount</th>\n",
       "      <td>22699.0</td>\n",
       "      <td>16.3</td>\n",
       "      <td>16.1</td>\n",
       "      <td>-120.3</td>\n",
       "      <td>11.8</td>\n",
       "      <td>1200.3</td>\n",
       "    </tr>\n",
       "    <tr>\n",
       "      <th>trip_duration</th>\n",
       "      <td>22699.0</td>\n",
       "      <td>17.0</td>\n",
       "      <td>62.0</td>\n",
       "      <td>-17.0</td>\n",
       "      <td>11.0</td>\n",
       "      <td>1440.0</td>\n",
       "    </tr>\n",
       "  </tbody>\n",
       "</table>\n",
       "</div>"
      ],
      "text/plain": [
       "                         count        mean         std      min         50%  \\\n",
       "Unnamed: 0             22699.0  56758486.2  32744929.5  12127.0  56731504.0   \n",
       "VendorID               22699.0         1.6         0.5      1.0         2.0   \n",
       "passenger_count        22699.0         1.6         1.3      0.0         1.0   \n",
       "trip_distance          22699.0         2.9         3.7      0.0         1.6   \n",
       "RatecodeID             22699.0         1.0         0.7      1.0         1.0   \n",
       "PULocationID           22699.0       162.4        66.6      1.0       162.0   \n",
       "DOLocationID           22699.0       161.5        70.1      1.0       162.0   \n",
       "payment_type           22699.0         1.3         0.5      1.0         1.0   \n",
       "fare_amount            22699.0        13.0        13.2   -120.0         9.5   \n",
       "extra                  22699.0         0.3         0.5     -1.0         0.0   \n",
       "mta_tax                22699.0         0.5         0.0     -0.5         0.5   \n",
       "tip_amount             22699.0         1.8         2.8      0.0         1.4   \n",
       "tolls_amount           22699.0         0.3         1.4      0.0         0.0   \n",
       "improvement_surcharge  22699.0         0.3         0.0     -0.3         0.3   \n",
       "total_amount           22699.0        16.3        16.1   -120.3        11.8   \n",
       "trip_duration          22699.0        17.0        62.0    -17.0        11.0   \n",
       "\n",
       "                               max  \n",
       "Unnamed: 0             113486300.0  \n",
       "VendorID                       2.0  \n",
       "passenger_count                6.0  \n",
       "trip_distance                 34.0  \n",
       "RatecodeID                    99.0  \n",
       "PULocationID                 265.0  \n",
       "DOLocationID                 265.0  \n",
       "payment_type                   4.0  \n",
       "fare_amount                 1000.0  \n",
       "extra                          4.5  \n",
       "mta_tax                        0.5  \n",
       "tip_amount                   200.0  \n",
       "tolls_amount                  19.1  \n",
       "improvement_surcharge          0.3  \n",
       "total_amount                1200.3  \n",
       "trip_duration               1440.0  "
      ]
     },
     "execution_count": 39,
     "metadata": {},
     "output_type": "execute_result"
    }
   ],
   "source": [
    "#check outliers\n",
    "round(df.describe(include= [np.number], percentiles= [.5]).T, 1)\n"
   ]
  },
  {
   "cell_type": "code",
   "execution_count": 43,
   "id": "ccf878f8",
   "metadata": {},
   "outputs": [
    {
     "data": {
      "image/png": "[encoded data removed]",
      "text/plain": [
       "<Figure size 1080x360 with 1 Axes>"
      ]
     },
     "metadata": {},
     "output_type": "display_data"
    }
   ],
   "source": [
    "#box plot \n",
    "sns.set_style('whitegrid')\n",
    "sns.set_palette('Dark2')\n",
    "\n",
    "plt.figure(figsize = (15,5))\n",
    "sns.boxplot(data=df , x='passenger_count',showfliers=False )\n",
    "plt.title('Distribution of passenger count column')\n",
    "plt.show()"
   ]
  },
  {
   "cell_type": "code",
   "execution_count": 45,
   "id": "587f3461",
   "metadata": {},
   "outputs": [
    {
     "data": {
      "image/png": "[encoded data removed]",
      "text/plain": [
       "<Figure size 1080x360 with 1 Axes>"
      ]
     },
     "metadata": {},
     "output_type": "display_data"
    }
   ],
   "source": [
    "plt.figure(figsize=(15,5))\n",
    "sns.boxplot(data=df , x='RatecodeID',showfliers=True)\n",
    "plt.title('Distribution of rate code column')\n",
    "plt.show()"
   ]
  },
  {
   "cell_type": "code",
   "execution_count": 46,
   "id": "acdc5d98",
   "metadata": {},
   "outputs": [
    {
     "data": {
      "image/png": "[encoded data removed]",
      "text/plain": [
       "<Figure size 1080x360 with 1 Axes>"
      ]
     },
     "metadata": {},
     "output_type": "display_data"
    }
   ],
   "source": [
    "plt.figure(figsize=(15,5))\n",
    "sns.boxplot(data=df , x='fare_amount',showfliers=False)\n",
    "plt.title('Distribution of fare amount column')\n",
    "plt.show()"
   ]
  },
  {
   "cell_type": "code",
   "execution_count": 47,
   "id": "c3685760",
   "metadata": {},
   "outputs": [
    {
     "data": {
      "image/png": "[encoded data removed]",
      "text/plain": [
       "<Figure size 1080x360 with 1 Axes>"
      ]
     },
     "metadata": {},
     "output_type": "display_data"
    }
   ],
   "source": [
    "plt.figure(figsize=(15,5))\n",
    "sns.boxplot(data=df , x='extra',showfliers=False)\n",
    "plt.title('Distribution of extra column')\n",
    "plt.show()"
   ]
  },
  {
   "cell_type": "code",
   "execution_count": 48,
   "id": "b2f53ec2",
   "metadata": {},
   "outputs": [
    {
     "data": {
      "image/png": "[encoded data removed]",
      "text/plain": [
       "<Figure size 1080x360 with 1 Axes>"
      ]
     },
     "metadata": {},
     "output_type": "display_data"
    }
   ],
   "source": [
    "plt.figure(figsize = (15, 5))\n",
    "sns.boxplot(data= df, x= \"trip_distance\", showfliers= True)\n",
    "plt.title(\"Distribution of Trip Distance Column\")\n",
    "plt.show()"
   ]
  },
  {
   "cell_type": "code",
   "execution_count": 49,
   "id": "95aef781",
   "metadata": {},
   "outputs": [
    {
     "data": {
      "image/png": "[encoded data removed]",
      "text/plain": [
       "<Figure size 1080x360 with 1 Axes>"
      ]
     },
     "metadata": {},
     "output_type": "display_data"
    }
   ],
   "source": [
    "plt.figure(figsize = (15, 5))\n",
    "sns.boxplot(data= df, x= \"mta_tax\", showfliers= True, fliersize= 2)\n",
    "plt.title(\"Distribution of MTA Tax Column\")\n",
    "plt.show()"
   ]
  },
  {
   "cell_type": "code",
   "execution_count": 51,
   "id": "54bd0aa4",
   "metadata": {},
   "outputs": [
    {
     "data": {
      "image/png": "[encoded data removed]",
      "text/plain": [
       "<Figure size 1080x360 with 1 Axes>"
      ]
     },
     "metadata": {},
     "output_type": "display_data"
    }
   ],
   "source": [
    "plt.figure(figsize = (15, 5))\n",
    "sns.boxplot(data= df, x= \"tip_amount\", showfliers= True, fliersize= 2)\n",
    "plt.title(\"Distribution of Tip Amounts\")\n",
    "plt.show()"
   ]
  },
  {
   "cell_type": "code",
   "execution_count": 52,
   "id": "17a405ac",
   "metadata": {},
   "outputs": [
    {
     "data": {
      "image/png": "[encoded data removed]",
      "text/plain": [
       "<Figure size 1080x360 with 1 Axes>"
      ]
     },
     "metadata": {},
     "output_type": "display_data"
    }
   ],
   "source": [
    "plt.figure(figsize = (15, 5))\n",
    "sns.boxplot(data= df, x= \"improvement_surcharge\", showfliers= True, fliersize= 2)\n",
    "plt.title(\"Distribution of Improvement Surcharge Column\")\n",
    "plt.show()\n"
   ]
  },
  {
   "cell_type": "code",
   "execution_count": 53,
   "id": "3a8ef3ad",
   "metadata": {},
   "outputs": [
    {
     "data": {
      "image/png": "[encoded data removed]",
      "text/plain": [
       "<Figure size 1080x360 with 1 Axes>"
      ]
     },
     "metadata": {},
     "output_type": "display_data"
    }
   ],
   "source": [
    "plt.figure(figsize = (15, 5))\n",
    "sns.boxplot(data= df, x= \"total_amount\", showfliers= False)\n",
    "plt.title(\"Distribution of Total Amount Column\")\n",
    "plt.show()"
   ]
  },
  {
   "cell_type": "code",
   "execution_count": 54,
   "id": "57d33a1b",
   "metadata": {},
   "outputs": [
    {
     "data": {
      "image/png": "[encoded data removed]",
      "text/plain": [
       "<Figure size 1080x360 with 1 Axes>"
      ]
     },
     "metadata": {},
     "output_type": "display_data"
    }
   ],
   "source": [
    "plt.figure(figsize = (15, 5))\n",
    "sns.boxplot(data= df, x= \"trip_duration\", showfliers= True)\n",
    "plt.title(\"Distribution of Trip Duration Column\")\n",
    "plt.show()\n"
   ]
  },
  {
   "cell_type": "code",
   "execution_count": 55,
   "id": "0a759ac2",
   "metadata": {},
   "outputs": [
    {
     "data": {
      "text/plain": [
       "passenger_count\n",
       "1                  16117\n",
       "2                   3305\n",
       "5                   1143\n",
       "3                    953\n",
       "6                    693\n",
       "4                    455\n",
       "0                     33\n",
       "dtype: int64"
      ]
     },
     "execution_count": 55,
     "metadata": {},
     "output_type": "execute_result"
    }
   ],
   "source": [
    "# imputations \n",
    "# passemger count imputation\n",
    "\n",
    "df[['passenger_count']].value_counts()"
   ]
  },
  {
   "cell_type": "code",
   "execution_count": 56,
   "id": "66528dcd",
   "metadata": {},
   "outputs": [],
   "source": [
    "df.loc[df['passenger_count']==0,'passenger_count']=1"
   ]
  },
  {
   "cell_type": "code",
   "execution_count": 58,
   "id": "2dbe6954",
   "metadata": {},
   "outputs": [
    {
     "data": {
      "text/plain": [
       "RatecodeID\n",
       "1             22070\n",
       "2               513\n",
       "5                68\n",
       "3                39\n",
       "4                 8\n",
       "99                1\n",
       "dtype: int64"
      ]
     },
     "execution_count": 58,
     "metadata": {},
     "output_type": "execute_result"
    }
   ],
   "source": [
    "#rotecodeID imputation\n",
    "df[['RatecodeID']].value_counts()\n"
   ]
  },
  {
   "cell_type": "code",
   "execution_count": 59,
   "id": "deb40e9c",
   "metadata": {},
   "outputs": [],
   "source": [
    "df.loc[df['RatecodeID']==99,'RatecodeID']=3"
   ]
  },
  {
   "cell_type": "code",
   "execution_count": 60,
   "id": "09ed164e",
   "metadata": {},
   "outputs": [
    {
     "data": {
      "text/plain": [
       "9"
      ]
     },
     "execution_count": 60,
     "metadata": {},
     "output_type": "execute_result"
    }
   ],
   "source": [
    "#extra imputation\n",
    "df.loc[df[\"extra\"] < 0, \"extra\"].count()"
   ]
  },
  {
   "cell_type": "code",
   "execution_count": 61,
   "id": "4075e429",
   "metadata": {},
   "outputs": [],
   "source": [
    "df.loc[df[\"extra\"] < 0, \"extra\"] = 0"
   ]
  },
  {
   "cell_type": "code",
   "execution_count": 62,
   "id": "2544abed",
   "metadata": {},
   "outputs": [
    {
     "data": {
      "text/plain": [
       "13"
      ]
     },
     "execution_count": 62,
     "metadata": {},
     "output_type": "execute_result"
    }
   ],
   "source": [
    "#mta_tax imputation\n",
    "df.loc[df[\"mta_tax\"] < 0, \"mta_tax\"].count()"
   ]
  },
  {
   "cell_type": "code",
   "execution_count": 63,
   "id": "0e55e704",
   "metadata": {},
   "outputs": [],
   "source": [
    "df.loc[df[\"mta_tax\"] < 0, \"mta_tax\"] = 0"
   ]
  },
  {
   "cell_type": "code",
   "execution_count": 64,
   "id": "02f13221",
   "metadata": {},
   "outputs": [
    {
     "data": {
      "text/plain": [
       "8476     200.00\n",
       "6064      55.50\n",
       "13861     51.64\n",
       "12511     46.69\n",
       "984       42.29\n",
       "Name: tip_amount, dtype: float64"
      ]
     },
     "execution_count": 64,
     "metadata": {},
     "output_type": "execute_result"
    }
   ],
   "source": [
    "#tip_amount imputation\n",
    "df[\"tip_amount\"].sort_values(ascending= False).head(5)\n"
   ]
  },
  {
   "cell_type": "code",
   "execution_count": 65,
   "id": "b0da9abe",
   "metadata": {},
   "outputs": [],
   "source": [
    "df.loc[df[\"tip_amount\"] == 200, \"tip_amount\"] = 55.50"
   ]
  },
  {
   "cell_type": "code",
   "execution_count": 66,
   "id": "693d2a77",
   "metadata": {},
   "outputs": [
    {
     "data": {
      "text/plain": [
       "14"
      ]
     },
     "execution_count": 66,
     "metadata": {},
     "output_type": "execute_result"
    }
   ],
   "source": [
    "#improvement_surcharge imputation\n",
    "df.loc[df[\"improvement_surcharge\"] < 0, \"improvement_surcharge\"].count()\n"
   ]
  },
  {
   "cell_type": "code",
   "execution_count": 67,
   "id": "37cce45d",
   "metadata": {},
   "outputs": [],
   "source": [
    "df.loc[df[\"improvement_surcharge\"] < 0, \"improvement_surcharge\"] = 0\n"
   ]
  },
  {
   "cell_type": "code",
   "execution_count": 80,
   "id": "0e5ed117",
   "metadata": {},
   "outputs": [],
   "source": [
    "# Impute upper-limit values in specified columns based on their interquartile range.\n",
    "'''Arguments:\n",
    "        column_list: A list of columns to iterate over\n",
    "        iqr_factor: A number representing x in the formula:\n",
    "                   Q3 + (x * IQR). Used to determine maximum threshold,\n",
    "                  beyond which a point is considered an outlier\n",
    "    The IQR is computed for each column in column_list and values exceeding\n",
    " the upper threshold for each column are imputed with the upper threshold value.\n",
    "              '''\n",
    "\n",
    "def impute_outliers(column_list, iqr_factor):\n",
    "    \n",
    "    for column in column_list:\n",
    "        \n",
    "        # Reassign minimum to zero\n",
    "        \n",
    "        df.loc[df[column] < 0, column] = 0\n",
    "        \n",
    "        # Calculate upper threshold\n",
    "        \n",
    "        Q3 = df[column].quantile(.75)\n",
    "        Q1 = df[column].quantile(.25)\n",
    "        iqr = Q3 - Q1\n",
    "        upper_limit = Q3 + (iqr_factor * iqr)\n",
    "        print(column)\n",
    "        print(\"Q3:\", round(Q3, 3))\n",
    "        print(\"Upper threshold:\", round(upper_limit, 3))\n",
    "        \n",
    "        # Reassign values > threshold to threshold\n",
    "        \n",
    "        df.loc[df[column] > upper_limit, column] = upper_limit\n",
    " "
   ]
  },
  {
   "cell_type": "code",
   "execution_count": 81,
   "id": "b1c9cbcd",
   "metadata": {},
   "outputs": [
    {
     "name": "stdout",
     "output_type": "stream",
     "text": [
      "trip_distance\n",
      "Q3: 3.06\n",
      "Upper threshold: 21.69\n"
     ]
    }
   ],
   "source": [
    "#trip_distance imputation\n",
    "impute_outliers([\"trip_distance\"], 9)\n"
   ]
  },
  {
   "cell_type": "code",
   "execution_count": 82,
   "id": "a5c7491b",
   "metadata": {},
   "outputs": [
    {
     "data": {
      "text/plain": [
       "count    22699.000000\n",
       "mean         2.904191\n",
       "std          3.598010\n",
       "min          0.000000\n",
       "25%          0.990000\n",
       "50%          1.610000\n",
       "75%          3.060000\n",
       "max         21.690000\n",
       "Name: trip_distance, dtype: float64"
      ]
     },
     "execution_count": 82,
     "metadata": {},
     "output_type": "execute_result"
    }
   ],
   "source": [
    "df[\"trip_distance\"].describe()\n"
   ]
  },
  {
   "cell_type": "code",
   "execution_count": 83,
   "id": "1e737f70",
   "metadata": {},
   "outputs": [
    {
     "name": "stdout",
     "output_type": "stream",
     "text": [
      "trip_duration\n",
      "Q3: 18.258\n",
      "Upper threshold: 121.833\n"
     ]
    }
   ],
   "source": [
    "impute_outliers([\"trip_duration\"], 9)"
   ]
  },
  {
   "cell_type": "code",
   "execution_count": 84,
   "id": "8e358a9b",
   "metadata": {},
   "outputs": [
    {
     "data": {
      "text/plain": [
       "count    22699.000000\n",
       "mean        14.538892\n",
       "std         12.546985\n",
       "min          0.000000\n",
       "25%          6.750000\n",
       "50%         11.000000\n",
       "75%         18.258333\n",
       "max        121.833333\n",
       "Name: trip_duration, dtype: float64"
      ]
     },
     "execution_count": 84,
     "metadata": {},
     "output_type": "execute_result"
    }
   ],
   "source": [
    "df[\"trip_duration\"].describe()\n"
   ]
  },
  {
   "cell_type": "code",
   "execution_count": 85,
   "id": "14694e7b",
   "metadata": {},
   "outputs": [
    {
     "name": "stdout",
     "output_type": "stream",
     "text": [
      "fare_amount\n",
      "Q3: 14.5\n",
      "Upper threshold: 86.5\n"
     ]
    }
   ],
   "source": [
    "impute_outliers([\"fare_amount\"], 9)\n"
   ]
  },
  {
   "cell_type": "code",
   "execution_count": 86,
   "id": "8dbdb9eb",
   "metadata": {},
   "outputs": [
    {
     "data": {
      "text/plain": [
       "count    22699.000000\n",
       "mean        12.944139\n",
       "std         10.795620\n",
       "min          0.000000\n",
       "25%          6.500000\n",
       "50%          9.500000\n",
       "75%         14.500000\n",
       "max         86.500000\n",
       "Name: fare_amount, dtype: float64"
      ]
     },
     "execution_count": 86,
     "metadata": {},
     "output_type": "execute_result"
    }
   ],
   "source": [
    "df[\"fare_amount\"].describe()\n"
   ]
  },
  {
   "cell_type": "code",
   "execution_count": 87,
   "id": "0625cf69",
   "metadata": {},
   "outputs": [
    {
     "name": "stdout",
     "output_type": "stream",
     "text": [
      "total_amount\n",
      "Q3: 17.8\n",
      "Upper threshold: 99.25\n"
     ]
    }
   ],
   "source": [
    "impute_outliers([\"total_amount\"], 9)\n"
   ]
  },
  {
   "cell_type": "code",
   "execution_count": 88,
   "id": "5fd33b90",
   "metadata": {},
   "outputs": [
    {
     "data": {
      "text/plain": [
       "count    22699.000000\n",
       "mean        16.210212\n",
       "std         13.337089\n",
       "min          0.000000\n",
       "25%          8.750000\n",
       "50%         11.800000\n",
       "75%         17.800000\n",
       "max         99.250000\n",
       "Name: total_amount, dtype: float64"
      ]
     },
     "execution_count": 88,
     "metadata": {},
     "output_type": "execute_result"
    }
   ],
   "source": [
    "df[\"total_amount\"].describe()\n"
   ]
  },
  {
   "cell_type": "code",
   "execution_count": 89,
   "id": "b3a92995",
   "metadata": {},
   "outputs": [
    {
     "data": {
      "text/plain": [
       "0    100 >> 231\n",
       "1     186 >> 43\n",
       "2    262 >> 236\n",
       "3     188 >> 97\n",
       "4      4 >> 112\n",
       "Name: pickup_dropoff, dtype: object"
      ]
     },
     "execution_count": 89,
     "metadata": {},
     "output_type": "execute_result"
    }
   ],
   "source": [
    "#Feature Engineering\n",
    "# Create `pickup_dropoff` column\n",
    "df[\"pickup_dropoff\"] = df[\"PULocationID\"].astype(\"str\") + \" >> \" + df[\"DOLocationID\"].astype(\"str\")\n",
    "df[\"pickup_dropoff\"].head(5)"
   ]
  },
  {
   "cell_type": "code",
   "execution_count": 90,
   "id": "c894a8e6",
   "metadata": {},
   "outputs": [
    {
     "data": {
      "text/plain": [
       "count          22699\n",
       "unique          4172\n",
       "top       264 >> 264\n",
       "freq             277\n",
       "Name: pickup_dropoff, dtype: object"
      ]
     },
     "execution_count": 90,
     "metadata": {},
     "output_type": "execute_result"
    }
   ],
   "source": [
    "df[\"pickup_dropoff\"].describe()\n"
   ]
  },
  {
   "cell_type": "code",
   "execution_count": 91,
   "id": "4879c0fb",
   "metadata": {},
   "outputs": [
    {
     "data": {
      "text/html": [
       "<div>\n",
       "<style scoped>\n",
       "    .dataframe tbody tr th:only-of-type {\n",
       "        vertical-align: middle;\n",
       "    }\n",
       "\n",
       "    .dataframe tbody tr th {\n",
       "        vertical-align: top;\n",
       "    }\n",
       "\n",
       "    .dataframe thead th {\n",
       "        text-align: right;\n",
       "    }\n",
       "</style>\n",
       "<table border=\"1\" class=\"dataframe\">\n",
       "  <thead>\n",
       "    <tr style=\"text-align: right;\">\n",
       "      <th></th>\n",
       "      <th>trip_distance</th>\n",
       "    </tr>\n",
       "    <tr>\n",
       "      <th>pickup_dropoff</th>\n",
       "      <th></th>\n",
       "    </tr>\n",
       "  </thead>\n",
       "  <tbody>\n",
       "    <tr>\n",
       "      <th>1 &gt;&gt; 1</th>\n",
       "      <td>2.43</td>\n",
       "    </tr>\n",
       "    <tr>\n",
       "      <th>10 &gt;&gt; 148</th>\n",
       "      <td>15.70</td>\n",
       "    </tr>\n",
       "    <tr>\n",
       "      <th>100 &gt;&gt; 1</th>\n",
       "      <td>16.89</td>\n",
       "    </tr>\n",
       "    <tr>\n",
       "      <th>100 &gt;&gt; 100</th>\n",
       "      <td>0.25</td>\n",
       "    </tr>\n",
       "    <tr>\n",
       "      <th>100 &gt;&gt; 107</th>\n",
       "      <td>1.18</td>\n",
       "    </tr>\n",
       "  </tbody>\n",
       "</table>\n",
       "</div>"
      ],
      "text/plain": [
       "                trip_distance\n",
       "pickup_dropoff               \n",
       "1 >> 1                   2.43\n",
       "10 >> 148               15.70\n",
       "100 >> 1                16.89\n",
       "100 >> 100               0.25\n",
       "100 >> 107               1.18"
      ]
     },
     "execution_count": 91,
     "metadata": {},
     "output_type": "execute_result"
    }
   ],
   "source": [
    "#Create mean_distance column\n",
    "grouped_pickup_dropoff = round(df.groupby([\"pickup_dropoff\"])[[\"trip_distance\"]].mean(), 2)\n",
    "grouped_pickup_dropoff.head(5)\n"
   ]
  },
  {
   "cell_type": "code",
   "execution_count": 92,
   "id": "0115e3a4",
   "metadata": {},
   "outputs": [],
   "source": [
    "# 1. Convert `grouped` to a dictionary\n",
    "grouped_dict = grouped_pickup_dropoff.to_dict()\n",
    "\n",
    "# 2. Reassign to only contain the inner dictionary\n",
    "grouped_dict = grouped_dict[\"trip_distance\"]\n"
   ]
  },
  {
   "cell_type": "code",
   "execution_count": 94,
   "id": "aebc2ea8",
   "metadata": {},
   "outputs": [],
   "source": [
    "# 1. Create a mean_distance column that is a copy of the pickup_dropoff helper column\n",
    "df[\"mean_distance\"] = df[\"pickup_dropoff\"]\n",
    "\n",
    "# 2. Map `grouped_dict` to the `mean_distance` column\n",
    "df[\"mean_distance\"] = df[\"mean_distance\"].map(grouped_dict)\n",
    "\n"
   ]
  },
  {
   "cell_type": "code",
   "execution_count": 95,
   "id": "c2caf5aa",
   "metadata": {},
   "outputs": [
    {
     "data": {
      "text/plain": [
       "0    NaN\n",
       "1    NaN\n",
       "2    NaN\n",
       "3    NaN\n",
       "4    NaN\n",
       "Name: mean_distance, dtype: object"
      ]
     },
     "execution_count": 95,
     "metadata": {},
     "output_type": "execute_result"
    }
   ],
   "source": [
    "# Confirm that it worked\n",
    "df[\"mean_distance\"].head(5)\n"
   ]
  },
  {
   "cell_type": "code",
   "execution_count": 96,
   "id": "b69f0075",
   "metadata": {},
   "outputs": [
    {
     "data": {
      "text/html": [
       "<div>\n",
       "<style scoped>\n",
       "    .dataframe tbody tr th:only-of-type {\n",
       "        vertical-align: middle;\n",
       "    }\n",
       "\n",
       "    .dataframe tbody tr th {\n",
       "        vertical-align: top;\n",
       "    }\n",
       "\n",
       "    .dataframe thead th {\n",
       "        text-align: right;\n",
       "    }\n",
       "</style>\n",
       "<table border=\"1\" class=\"dataframe\">\n",
       "  <thead>\n",
       "    <tr style=\"text-align: right;\">\n",
       "      <th></th>\n",
       "      <th>trip_duration</th>\n",
       "    </tr>\n",
       "    <tr>\n",
       "      <th>pickup_dropoff</th>\n",
       "      <th></th>\n",
       "    </tr>\n",
       "  </thead>\n",
       "  <tbody>\n",
       "    <tr>\n",
       "      <th>1 &gt;&gt; 1</th>\n",
       "      <td>0.00</td>\n",
       "    </tr>\n",
       "    <tr>\n",
       "      <th>10 &gt;&gt; 148</th>\n",
       "      <td>69.00</td>\n",
       "    </tr>\n",
       "    <tr>\n",
       "      <th>100 &gt;&gt; 1</th>\n",
       "      <td>48.00</td>\n",
       "    </tr>\n",
       "    <tr>\n",
       "      <th>100 &gt;&gt; 100</th>\n",
       "      <td>3.12</td>\n",
       "    </tr>\n",
       "    <tr>\n",
       "      <th>100 &gt;&gt; 107</th>\n",
       "      <td>11.37</td>\n",
       "    </tr>\n",
       "  </tbody>\n",
       "</table>\n",
       "</div>"
      ],
      "text/plain": [
       "                trip_duration\n",
       "pickup_dropoff               \n",
       "1 >> 1                   0.00\n",
       "10 >> 148               69.00\n",
       "100 >> 1                48.00\n",
       "100 >> 100               3.12\n",
       "100 >> 107              11.37"
      ]
     },
     "execution_count": 96,
     "metadata": {},
     "output_type": "execute_result"
    }
   ],
   "source": [
    "#Create mean_duration column\n",
    "grouped_pickup_dropoff = round(df.groupby([\"pickup_dropoff\"])[[\"trip_duration\"]].mean(), 2)\n",
    "grouped_pickup_dropoff.head(5)\n"
   ]
  },
  {
   "cell_type": "code",
   "execution_count": 97,
   "id": "4c7e7ce3",
   "metadata": {},
   "outputs": [],
   "source": [
    "# 1. Convert `grouped` to a dictionary\n",
    "grouped_dict = grouped_pickup_dropoff.to_dict()\n",
    "# 2. Reassign to only contain the inner dictionary\n",
    "grouped_dict = grouped_dict[\"trip_duration\"]\n"
   ]
  },
  {
   "cell_type": "code",
   "execution_count": 98,
   "id": "d5fa23ba",
   "metadata": {},
   "outputs": [
    {
     "data": {
      "text/plain": [
       "0    22.88\n",
       "1    24.29\n",
       "2     7.26\n",
       "3    31.00\n",
       "4    14.36\n",
       "Name: mean_duration, dtype: float64"
      ]
     },
     "execution_count": 98,
     "metadata": {},
     "output_type": "execute_result"
    }
   ],
   "source": [
    "# 1. Create a mean_duration column that is a copy of the pickup_dropoff helper column\n",
    "df[\"mean_duration\"] = df[\"pickup_dropoff\"]\n",
    "# 2. Map `grouped_dict` to the `mean_duration` column\n",
    "df[\"mean_duration\"] = df[\"mean_duration\"].map(grouped_dict)\n",
    "# Confirm that it worked\n",
    "df[\"mean_duration\"].head(5)\n"
   ]
  },
  {
   "cell_type": "code",
   "execution_count": 99,
   "id": "c8bc13bf",
   "metadata": {},
   "outputs": [],
   "source": [
    "#Create day & month columns\n",
    "# Create 'day' col\n",
    "df[\"day\"] = df[\"tpep_pickup_datetime\"].dt.day_name().str.lower()\n",
    "# Create 'month' col\n",
    "df[\"month\"] = df[\"tpep_pickup_datetime\"].dt.month_name().str.lower()\n"
   ]
  },
  {
   "cell_type": "code",
   "execution_count": 100,
   "id": "02e2dcf9",
   "metadata": {},
   "outputs": [
    {
     "data": {
      "text/plain": [
       "0     0\n",
       "1    14\n",
       "2     7\n",
       "3     0\n",
       "4     0\n",
       "Name: rush_hour, dtype: int64"
      ]
     },
     "execution_count": 100,
     "metadata": {},
     "output_type": "execute_result"
    }
   ],
   "source": [
    "# Create 'rush_hour' col\n",
    "df[\"rush_hour\"] = df[\"tpep_pickup_datetime\"].dt.hour\n",
    "# If day is Saturday or Sunday, impute 0 in `rush_hour` column\n",
    "df.loc[df[\"day\"].isin([\"saturday\", \"sunday\"]), \"rush_hour\"] = 0\n",
    "df[\"rush_hour\"].head(5)"
   ]
  },
  {
   "cell_type": "code",
   "execution_count": 104,
   "id": "a7c11bc2",
   "metadata": {},
   "outputs": [
    {
     "data": {
      "text/plain": [
       "0    0\n",
       "1    0\n",
       "2    1\n",
       "3    0\n",
       "4    0\n",
       "Name: rush_hour, dtype: int64"
      ]
     },
     "execution_count": 104,
     "metadata": {},
     "output_type": "execute_result"
    }
   ],
   "source": [
    "def rush_hourizer(hour):\n",
    "    if 6 <= hour <= 10:\n",
    "        val = 1\n",
    "    elif 16 <= hour <= 20:\n",
    "        val = 1\n",
    "    else:\n",
    "        val = 0\n",
    "    return val\n",
    "\n",
    "df[\"rush_hour\"] = df[\"rush_hour\"].apply(rush_hourizer)\n",
    "df[\"rush_hour\"].head(5)\n"
   ]
  },
  {
   "cell_type": "code",
   "execution_count": 105,
   "id": "22d101dc",
   "metadata": {},
   "outputs": [
    {
     "name": "stdout",
     "output_type": "stream",
     "text": [
      "<class 'pandas.core.frame.DataFrame'>\n",
      "RangeIndex: 22699 entries, 0 to 22698\n",
      "Data columns (total 25 columns):\n",
      " #   Column                 Non-Null Count  Dtype         \n",
      "---  ------                 --------------  -----         \n",
      " 0   Unnamed: 0             22699 non-null  int64         \n",
      " 1   VendorID               22699 non-null  int64         \n",
      " 2   tpep_pickup_datetime   22699 non-null  datetime64[ns]\n",
      " 3   tpep_dropoff_datetime  22699 non-null  datetime64[ns]\n",
      " 4   passenger_count        22699 non-null  int64         \n",
      " 5   trip_distance          22699 non-null  float64       \n",
      " 6   RatecodeID             22699 non-null  int64         \n",
      " 7   store_and_fwd_flag     22699 non-null  object        \n",
      " 8   PULocationID           22699 non-null  int64         \n",
      " 9   DOLocationID           22699 non-null  int64         \n",
      " 10  payment_type           22699 non-null  int64         \n",
      " 11  fare_amount            22699 non-null  float64       \n",
      " 12  extra                  22699 non-null  float64       \n",
      " 13  mta_tax                22699 non-null  float64       \n",
      " 14  tip_amount             22699 non-null  float64       \n",
      " 15  tolls_amount           22699 non-null  float64       \n",
      " 16  improvement_surcharge  22699 non-null  float64       \n",
      " 17  total_amount           22699 non-null  float64       \n",
      " 18  trip_duration          22699 non-null  float64       \n",
      " 19  pickup_dropoff         22699 non-null  object        \n",
      " 20  mean_distance          0 non-null      object        \n",
      " 21  mean_duration          22699 non-null  float64       \n",
      " 22  day                    22699 non-null  object        \n",
      " 23  month                  22699 non-null  object        \n",
      " 24  rush_hour              22699 non-null  int64         \n",
      "dtypes: datetime64[ns](2), float64(10), int64(8), object(5)\n",
      "memory usage: 4.3+ MB\n"
     ]
    }
   ],
   "source": [
    "#Ordering columns\n",
    "df.info()"
   ]
  },
  {
   "cell_type": "code",
   "execution_count": 109,
   "id": "0b48ed11",
   "metadata": {},
   "outputs": [
    {
     "data": {
      "text/plain": [
       "(22699, 24)"
      ]
     },
     "execution_count": 109,
     "metadata": {},
     "output_type": "execute_result"
    }
   ],
   "source": [
    "df1 = df[[\"VendorID\", \"tpep_pickup_datetime\", \"tpep_dropoff_datetime\", \"day\", \"month\", \"rush_hour\",\\\n",
    " \"passenger_count\", \"trip_distance\", \"trip_duration\",\"RatecodeID\", \"store_and_fwd_flag\",\\\n",
    " \"PULocationID\", \"DOLocationID\", \"pickup_dropoff\", \"mean_distance\", \"mean_duration\", \"payment_type\",\\\n",
    " \"fare_amount\", \"extra\", \"mta_tax\", \"tip_amount\", \"tolls_amount\", \"improvement_surcharge\", \n",
    "\"total_amount\"]]\n",
    "df1.shape\n"
   ]
  },
  {
   "cell_type": "code",
   "execution_count": 110,
   "id": "db08ea8c",
   "metadata": {},
   "outputs": [
    {
     "data": {
      "text/plain": [
       "2    0.556236\n",
       "1    0.443764\n",
       "Name: VendorID, dtype: float64"
      ]
     },
     "execution_count": 110,
     "metadata": {},
     "output_type": "execute_result"
    }
   ],
   "source": [
    "#Data visualizations for tip_amount\n",
    "#Tips by Vendor\n",
    "df1[\"VendorID\"].value_counts(normalize= True)"
   ]
  },
  {
   "cell_type": "code",
   "execution_count": 111,
   "id": "ed36577d",
   "metadata": {},
   "outputs": [
    {
     "data": {
      "image/png": "[encoded data removed]",
      "text/plain": [
       "<Figure size 1080x360 with 1 Axes>"
      ]
     },
     "metadata": {},
     "output_type": "display_data"
    }
   ],
   "source": [
    "plt.figure(figsize= (15, 5))\n",
    "plt.pie(df1[\"VendorID\"].value_counts(), labels= [\"VeriFone: 55.6%\", \"Creative Mobile Technologies: 44.4%\"])\n",
    "my_circle = plt.Circle( (0,0), 0.5, color= 'white')\n",
    "p= plt.gcf()\n",
    "p.gca().add_artist(my_circle)\n",
    "plt.show()"
   ]
  },
  {
   "cell_type": "code",
   "execution_count": 112,
   "id": "5d3cf554",
   "metadata": {},
   "outputs": [
    {
     "data": {
      "image/png": "[encoded data removed]",
      "text/plain": [
       "<Figure size 1152x576 with 1 Axes>"
      ]
     },
     "metadata": {},
     "output_type": "display_data"
    }
   ],
   "source": [
    "plt.figure(figsize = (16, 8))\n",
    "ax= sns.histplot(data= df1, x= \"tip_amount\", bins= range(0, 20, 1), hue= \"VendorID\", multiple= \"dodge\")\n",
    "ax.set_xticks(range(0, 20, 1))\n",
    "ax.set_xticklabels(range(0, 20, 1))\n",
    "plt.xlabel(\"Tip Amounts\")\n",
    "plt.title(\"Distribution of Tip Amounts by Vendor\")\n",
    "plt.show()\n"
   ]
  },
  {
   "cell_type": "code",
   "execution_count": 113,
   "id": "238a4bab",
   "metadata": {},
   "outputs": [
    {
     "data": {
      "text/html": [
       "<div>\n",
       "<style scoped>\n",
       "    .dataframe tbody tr th:only-of-type {\n",
       "        vertical-align: middle;\n",
       "    }\n",
       "\n",
       "    .dataframe tbody tr th {\n",
       "        vertical-align: top;\n",
       "    }\n",
       "\n",
       "    .dataframe thead tr th {\n",
       "        text-align: left;\n",
       "    }\n",
       "\n",
       "    .dataframe thead tr:last-of-type th {\n",
       "        text-align: right;\n",
       "    }\n",
       "</style>\n",
       "<table border=\"1\" class=\"dataframe\">\n",
       "  <thead>\n",
       "    <tr>\n",
       "      <th></th>\n",
       "      <th colspan=\"2\" halign=\"left\">tip_amount</th>\n",
       "      <th colspan=\"2\" halign=\"left\">total_amount</th>\n",
       "    </tr>\n",
       "    <tr>\n",
       "      <th></th>\n",
       "      <th>sum</th>\n",
       "      <th>mean</th>\n",
       "      <th>sum</th>\n",
       "      <th>mean</th>\n",
       "    </tr>\n",
       "    <tr>\n",
       "      <th>VendorID</th>\n",
       "      <th></th>\n",
       "      <th></th>\n",
       "      <th></th>\n",
       "      <th></th>\n",
       "    </tr>\n",
       "  </thead>\n",
       "  <tbody>\n",
       "    <tr>\n",
       "      <th>1</th>\n",
       "      <td>18362.12</td>\n",
       "      <td>1.822905</td>\n",
       "      <td>162838.95</td>\n",
       "      <td>16.165884</td>\n",
       "    </tr>\n",
       "    <tr>\n",
       "      <th>2</th>\n",
       "      <td>23163.78</td>\n",
       "      <td>1.834610</td>\n",
       "      <td>205116.65</td>\n",
       "      <td>16.245577</td>\n",
       "    </tr>\n",
       "  </tbody>\n",
       "</table>\n",
       "</div>"
      ],
      "text/plain": [
       "         tip_amount           total_amount           \n",
       "                sum      mean          sum       mean\n",
       "VendorID                                             \n",
       "1          18362.12  1.822905    162838.95  16.165884\n",
       "2          23163.78  1.834610    205116.65  16.245577"
      ]
     },
     "execution_count": 113,
     "metadata": {},
     "output_type": "execute_result"
    }
   ],
   "source": [
    "df_vendor = df1.groupby([\"VendorID\"])[[\"tip_amount\", \"total_amount\"]].agg({\"sum\", \"mean\"})\n",
    "df_vendor"
   ]
  },
  {
   "cell_type": "code",
   "execution_count": 114,
   "id": "f9f69054",
   "metadata": {},
   "outputs": [
    {
     "data": {
      "text/plain": [
       "1    71.1\n",
       "2    14.6\n",
       "5     5.0\n",
       "3     4.2\n",
       "6     3.1\n",
       "4     2.0\n",
       "Name: passenger_count, dtype: float64"
      ]
     },
     "execution_count": 114,
     "metadata": {},
     "output_type": "execute_result"
    }
   ],
   "source": [
    "round(df1[\"passenger_count\"].value_counts(normalize= True), 3) * 100\n"
   ]
  },
  {
   "cell_type": "code",
   "execution_count": 117,
   "id": "e29dd345",
   "metadata": {},
   "outputs": [
    {
     "data": {
      "image/png": "[encoded data removed]",
      "text/plain": [
       "<Figure size 1080x360 with 1 Axes>"
      ]
     },
     "metadata": {},
     "output_type": "display_data"
    }
   ],
   "source": [
    "plt.figure(figsize= (15, 5))\n",
    "plt.pie(df1[\"passenger_count\"].value_counts(), labels=[\"1: 71.1%,\", \"2: 14.6%\", \"5: 5.0%\", \"3: 4.2%\",\n",
    "\"6:3.1%\", \"4: 2.0%\"])\n",
    "                                                        \n",
    "my_circle = plt.Circle( (0,0), 0.5, color= 'white')\n",
    "p= plt.gcf()\n",
    "p.gca().add_artist(my_circle)\n",
    "plt.show()\n"
   ]
  },
  {
   "cell_type": "code",
   "execution_count": 118,
   "id": "8edd3535",
   "metadata": {},
   "outputs": [
    {
     "data": {
      "text/html": [
       "<div>\n",
       "<style scoped>\n",
       "    .dataframe tbody tr th:only-of-type {\n",
       "        vertical-align: middle;\n",
       "    }\n",
       "\n",
       "    .dataframe tbody tr th {\n",
       "        vertical-align: top;\n",
       "    }\n",
       "\n",
       "    .dataframe thead th {\n",
       "        text-align: right;\n",
       "    }\n",
       "</style>\n",
       "<table border=\"1\" class=\"dataframe\">\n",
       "  <thead>\n",
       "    <tr style=\"text-align: right;\">\n",
       "      <th></th>\n",
       "      <th>passenger_count</th>\n",
       "      <th>average_tip</th>\n",
       "    </tr>\n",
       "  </thead>\n",
       "  <tbody>\n",
       "    <tr>\n",
       "      <th>0</th>\n",
       "      <td>1</td>\n",
       "      <td>1.840559</td>\n",
       "    </tr>\n",
       "    <tr>\n",
       "      <th>1</th>\n",
       "      <td>2</td>\n",
       "      <td>1.856378</td>\n",
       "    </tr>\n",
       "    <tr>\n",
       "      <th>2</th>\n",
       "      <td>3</td>\n",
       "      <td>1.716768</td>\n",
       "    </tr>\n",
       "    <tr>\n",
       "      <th>3</th>\n",
       "      <td>4</td>\n",
       "      <td>1.530264</td>\n",
       "    </tr>\n",
       "    <tr>\n",
       "      <th>4</th>\n",
       "      <td>5</td>\n",
       "      <td>1.873185</td>\n",
       "    </tr>\n",
       "    <tr>\n",
       "      <th>5</th>\n",
       "      <td>6</td>\n",
       "      <td>1.720260</td>\n",
       "    </tr>\n",
       "  </tbody>\n",
       "</table>\n",
       "</div>"
      ],
      "text/plain": [
       "   passenger_count  average_tip\n",
       "0                1     1.840559\n",
       "1                2     1.856378\n",
       "2                3     1.716768\n",
       "3                4     1.530264\n",
       "4                5     1.873185\n",
       "5                6     1.720260"
      ]
     },
     "execution_count": 118,
     "metadata": {},
     "output_type": "execute_result"
    }
   ],
   "source": [
    "mean_tips_by_pass = df1.groupby([\"passenger_count\"])[[\"tip_amount\"]].mean().reset_index().rename(columns=\n",
    "{\"tip_amount\": \"average_tip\"})\n",
    "mean_tips_by_pass"
   ]
  },
  {
   "cell_type": "code",
   "execution_count": 119,
   "id": "8fa34ad7",
   "metadata": {},
   "outputs": [
    {
     "data": {
      "image/png": "[encoded data removed]",
      "text/plain": [
       "<Figure size 1080x360 with 1 Axes>"
      ]
     },
     "metadata": {},
     "output_type": "display_data"
    }
   ],
   "source": [
    "plt.figure(figsize = (15, 5))\n",
    "sns.barplot(data= mean_tips_by_pass, x= \"passenger_count\", y= \"average_tip\", palette= \"hls\")\n",
    "plt.title(\"Average of Tips by Passenger Count\")\n",
    "plt.show()\n"
   ]
  },
  {
   "cell_type": "code",
   "execution_count": 120,
   "id": "be059004",
   "metadata": {},
   "outputs": [
    {
     "data": {
      "text/plain": [
       "1    67.2\n",
       "2    32.0\n",
       "3     0.5\n",
       "4     0.2\n",
       "Name: payment_type, dtype: float64"
      ]
     },
     "execution_count": 120,
     "metadata": {},
     "output_type": "execute_result"
    }
   ],
   "source": [
    "round(df1[\"payment_type\"].value_counts(normalize= True), 3) * 100\n"
   ]
  },
  {
   "cell_type": "code",
   "execution_count": 121,
   "id": "d0dc64b4",
   "metadata": {},
   "outputs": [
    {
     "data": {
      "image/png": "[encoded data removed]",
      "text/plain": [
       "<Figure size 1080x360 with 1 Axes>"
      ]
     },
     "metadata": {},
     "output_type": "display_data"
    }
   ],
   "source": [
    "plt.figure(figsize= (15, 5))\n",
    "plt.pie(df1[\"payment_type\"].value_counts(), labels= [\"Credit Card: 67.2%,\", \"Cash: 32.0%\", \"Other: 0.8%\", \"\"])\n",
    "my_circle = plt.Circle( (0,0), 0.5, color= 'white')\n",
    "p= plt.gcf()\n",
    "p.gca().add_artist(my_circle)\n",
    "plt.show()\n"
   ]
  },
  {
   "cell_type": "code",
   "execution_count": 122,
   "id": "072b423e",
   "metadata": {},
   "outputs": [
    {
     "data": {
      "text/html": [
       "<div>\n",
       "<style scoped>\n",
       "    .dataframe tbody tr th:only-of-type {\n",
       "        vertical-align: middle;\n",
       "    }\n",
       "\n",
       "    .dataframe tbody tr th {\n",
       "        vertical-align: top;\n",
       "    }\n",
       "\n",
       "    .dataframe thead th {\n",
       "        text-align: right;\n",
       "    }\n",
       "</style>\n",
       "<table border=\"1\" class=\"dataframe\">\n",
       "  <thead>\n",
       "    <tr style=\"text-align: right;\">\n",
       "      <th></th>\n",
       "      <th>payment_type</th>\n",
       "      <th>average_tip</th>\n",
       "    </tr>\n",
       "  </thead>\n",
       "  <tbody>\n",
       "    <tr>\n",
       "      <th>0</th>\n",
       "      <td>1</td>\n",
       "      <td>2.720334</td>\n",
       "    </tr>\n",
       "    <tr>\n",
       "      <th>1</th>\n",
       "      <td>2</td>\n",
       "      <td>0.000000</td>\n",
       "    </tr>\n",
       "    <tr>\n",
       "      <th>2</th>\n",
       "      <td>3</td>\n",
       "      <td>0.000000</td>\n",
       "    </tr>\n",
       "    <tr>\n",
       "      <th>3</th>\n",
       "      <td>4</td>\n",
       "      <td>0.000000</td>\n",
       "    </tr>\n",
       "  </tbody>\n",
       "</table>\n",
       "</div>"
      ],
      "text/plain": [
       "   payment_type  average_tip\n",
       "0             1     2.720334\n",
       "1             2     0.000000\n",
       "2             3     0.000000\n",
       "3             4     0.000000"
      ]
     },
     "execution_count": 122,
     "metadata": {},
     "output_type": "execute_result"
    }
   ],
   "source": [
    "mean_tips_by_pay = df1.groupby([\"payment_type\"])[[\"tip_amount\"]].mean().reset_index().rename(columns=\n",
    "{\"tip_amount\": \"average_tip\"})\n",
    "mean_tips_by_pay\n"
   ]
  },
  {
   "cell_type": "code",
   "execution_count": 123,
   "id": "56044d13",
   "metadata": {},
   "outputs": [
    {
     "data": {
      "image/png": "[encoded data removed]",
      "text/plain": [
       "<Figure size 1080x360 with 1 Axes>"
      ]
     },
     "metadata": {},
     "output_type": "display_data"
    }
   ],
   "source": [
    "plt.figure(figsize = (15, 5))\n",
    "sns.barplot(data= mean_tips_by_pay, x= \"payment_type\", y= \"average_tip\", palette= \"hls\")\n",
    "plt.title(\"Average of Tips by Payment Type\")\n",
    "plt.show()\n"
   ]
  },
  {
   "cell_type": "code",
   "execution_count": 124,
   "id": "569d4319",
   "metadata": {},
   "outputs": [
    {
     "data": {
      "text/html": [
       "<div>\n",
       "<style scoped>\n",
       "    .dataframe tbody tr th:only-of-type {\n",
       "        vertical-align: middle;\n",
       "    }\n",
       "\n",
       "    .dataframe tbody tr th {\n",
       "        vertical-align: top;\n",
       "    }\n",
       "\n",
       "    .dataframe thead th {\n",
       "        text-align: right;\n",
       "    }\n",
       "</style>\n",
       "<table border=\"1\" class=\"dataframe\">\n",
       "  <thead>\n",
       "    <tr style=\"text-align: right;\">\n",
       "      <th></th>\n",
       "      <th>median</th>\n",
       "      <th>mean</th>\n",
       "    </tr>\n",
       "    <tr>\n",
       "      <th>payment_type</th>\n",
       "      <th></th>\n",
       "      <th></th>\n",
       "    </tr>\n",
       "  </thead>\n",
       "  <tbody>\n",
       "    <tr>\n",
       "      <th>1</th>\n",
       "      <td>9.5</td>\n",
       "      <td>13.330766</td>\n",
       "    </tr>\n",
       "    <tr>\n",
       "      <th>2</th>\n",
       "      <td>9.0</td>\n",
       "      <td>12.141302</td>\n",
       "    </tr>\n",
       "    <tr>\n",
       "      <th>3</th>\n",
       "      <td>7.0</td>\n",
       "      <td>12.367934</td>\n",
       "    </tr>\n",
       "    <tr>\n",
       "      <th>4</th>\n",
       "      <td>8.5</td>\n",
       "      <td>12.989130</td>\n",
       "    </tr>\n",
       "  </tbody>\n",
       "</table>\n",
       "</div>"
      ],
      "text/plain": [
       "              median       mean\n",
       "payment_type                   \n",
       "1                9.5  13.330766\n",
       "2                9.0  12.141302\n",
       "3                7.0  12.367934\n",
       "4                8.5  12.989130"
      ]
     },
     "execution_count": 124,
     "metadata": {},
     "output_type": "execute_result"
    }
   ],
   "source": [
    "#Conduct an A/B Test with a two-sample t-test\n",
    "df1.groupby([\"payment_type\"])[\"fare_amount\"].agg({\"mean\", \"median\"})\n"
   ]
  },
  {
   "cell_type": "code",
   "execution_count": 125,
   "id": "0781ca83",
   "metadata": {},
   "outputs": [
    {
     "name": "stdout",
     "output_type": "stream",
     "text": [
      "15265\n",
      "7267\n"
     ]
    }
   ],
   "source": [
    "credit_card = df1[df1[\"payment_type\"] == 1][\"fare_amount\"]\n",
    "cash = df1[df1[\"payment_type\"] == 2][\"fare_amount\"]\n",
    "print(len(credit_card))\n",
    "print(len(cash))\n"
   ]
  },
  {
   "cell_type": "code",
   "execution_count": 126,
   "id": "b64b5c4e",
   "metadata": {},
   "outputs": [
    {
     "data": {
      "text/plain": [
       "Ttest_indResult(statistic=7.928029528935512, pvalue=2.381707989138683e-15)"
      ]
     },
     "execution_count": 126,
     "metadata": {},
     "output_type": "execute_result"
    }
   ],
   "source": [
    "stats.ttest_ind(a= credit_card, b= cash, equal_var= False)\n"
   ]
  },
  {
   "cell_type": "code",
   "execution_count": 127,
   "id": "eaaab10e",
   "metadata": {},
   "outputs": [
    {
     "data": {
      "image/png": "[encoded data removed]",
      "text/plain": [
       "<Figure size 1152x576 with 1 Axes>"
      ]
     },
     "metadata": {},
     "output_type": "display_data"
    }
   ],
   "source": [
    "plt.figure(figsize= (16, 8))\n",
    "sns.scatterplot(data= df1, x= \"mean_duration\", y= \"fare_amount\")\n",
    "plt.axhline(52, color= \"red\")\n",
    "plt.xticks(range(0, 126, 5))\n",
    "plt.yticks(range(0, 91, 5))\n",
    "plt.title(\"Relationship between Mean Duration & Fare Amount\")\n",
    "plt.show()"
   ]
  },
  {
   "cell_type": "code",
   "execution_count": 129,
   "id": "6ad29aae",
   "metadata": {},
   "outputs": [
    {
     "data": {
      "text/plain": [
       "52.0    514\n",
       "86.5     23\n",
       "50.5      9\n",
       "Name: fare_amount, dtype: int64"
      ]
     },
     "execution_count": 129,
     "metadata": {},
     "output_type": "execute_result"
    }
   ],
   "source": [
    "df1[df1[\"fare_amount\"] > 50][\"fare_amount\"].value_counts().head(3)\n"
   ]
  },
  {
   "cell_type": "code",
   "execution_count": 130,
   "id": "7eabc28f",
   "metadata": {},
   "outputs": [
    {
     "data": {
      "text/html": [
       "<div>\n",
       "<style scoped>\n",
       "    .dataframe tbody tr th:only-of-type {\n",
       "        vertical-align: middle;\n",
       "    }\n",
       "\n",
       "    .dataframe tbody tr th {\n",
       "        vertical-align: top;\n",
       "    }\n",
       "\n",
       "    .dataframe thead th {\n",
       "        text-align: right;\n",
       "    }\n",
       "</style>\n",
       "<table border=\"1\" class=\"dataframe\">\n",
       "  <thead>\n",
       "    <tr style=\"text-align: right;\">\n",
       "      <th></th>\n",
       "      <th>VendorID</th>\n",
       "      <th>tpep_pickup_datetime</th>\n",
       "      <th>tpep_dropoff_datetime</th>\n",
       "      <th>day</th>\n",
       "      <th>month</th>\n",
       "      <th>rush_hour</th>\n",
       "      <th>passenger_count</th>\n",
       "      <th>trip_distance</th>\n",
       "      <th>trip_duration</th>\n",
       "      <th>RatecodeID</th>\n",
       "      <th>store_and_fwd_flag</th>\n",
       "      <th>PULocationID</th>\n",
       "      <th>DOLocationID</th>\n",
       "      <th>pickup_dropoff</th>\n",
       "      <th>mean_distance</th>\n",
       "      <th>mean_duration</th>\n",
       "      <th>payment_type</th>\n",
       "      <th>fare_amount</th>\n",
       "      <th>extra</th>\n",
       "      <th>mta_tax</th>\n",
       "      <th>tip_amount</th>\n",
       "      <th>tolls_amount</th>\n",
       "      <th>improvement_surcharge</th>\n",
       "      <th>total_amount</th>\n",
       "    </tr>\n",
       "  </thead>\n",
       "  <tbody>\n",
       "    <tr>\n",
       "      <th>11</th>\n",
       "      <td>2</td>\n",
       "      <td>2017-03-05 19:15:00</td>\n",
       "      <td>2017-03-05 19:52:00</td>\n",
       "      <td>sunday</td>\n",
       "      <td>march</td>\n",
       "      <td>0</td>\n",
       "      <td>2</td>\n",
       "      <td>18.90</td>\n",
       "      <td>37.000000</td>\n",
       "      <td>2</td>\n",
       "      <td>N</td>\n",
       "      <td>236</td>\n",
       "      <td>132</td>\n",
       "      <td>236 &gt;&gt; 132</td>\n",
       "      <td>NaN</td>\n",
       "      <td>46.10</td>\n",
       "      <td>1</td>\n",
       "      <td>52.0</td>\n",
       "      <td>0.0</td>\n",
       "      <td>0.5</td>\n",
       "      <td>14.58</td>\n",
       "      <td>5.54</td>\n",
       "      <td>0.3</td>\n",
       "      <td>72.92</td>\n",
       "    </tr>\n",
       "    <tr>\n",
       "      <th>110</th>\n",
       "      <td>1</td>\n",
       "      <td>2017-06-03 14:24:00</td>\n",
       "      <td>2017-06-03 15:31:00</td>\n",
       "      <td>saturday</td>\n",
       "      <td>june</td>\n",
       "      <td>0</td>\n",
       "      <td>1</td>\n",
       "      <td>18.00</td>\n",
       "      <td>67.000000</td>\n",
       "      <td>2</td>\n",
       "      <td>N</td>\n",
       "      <td>132</td>\n",
       "      <td>163</td>\n",
       "      <td>132 &gt;&gt; 163</td>\n",
       "      <td>NaN</td>\n",
       "      <td>53.07</td>\n",
       "      <td>1</td>\n",
       "      <td>52.0</td>\n",
       "      <td>0.0</td>\n",
       "      <td>0.5</td>\n",
       "      <td>0.00</td>\n",
       "      <td>0.00</td>\n",
       "      <td>0.3</td>\n",
       "      <td>52.80</td>\n",
       "    </tr>\n",
       "    <tr>\n",
       "      <th>161</th>\n",
       "      <td>2</td>\n",
       "      <td>2017-11-11 20:16:00</td>\n",
       "      <td>2017-11-11 20:17:00</td>\n",
       "      <td>saturday</td>\n",
       "      <td>november</td>\n",
       "      <td>0</td>\n",
       "      <td>1</td>\n",
       "      <td>0.23</td>\n",
       "      <td>1.000000</td>\n",
       "      <td>2</td>\n",
       "      <td>N</td>\n",
       "      <td>132</td>\n",
       "      <td>132</td>\n",
       "      <td>132 &gt;&gt; 132</td>\n",
       "      <td>NaN</td>\n",
       "      <td>3.02</td>\n",
       "      <td>2</td>\n",
       "      <td>52.0</td>\n",
       "      <td>0.0</td>\n",
       "      <td>0.5</td>\n",
       "      <td>0.00</td>\n",
       "      <td>0.00</td>\n",
       "      <td>0.3</td>\n",
       "      <td>52.80</td>\n",
       "    </tr>\n",
       "    <tr>\n",
       "      <th>247</th>\n",
       "      <td>2</td>\n",
       "      <td>2017-12-06 23:37:00</td>\n",
       "      <td>2017-12-07 00:06:00</td>\n",
       "      <td>wednesday</td>\n",
       "      <td>december</td>\n",
       "      <td>0</td>\n",
       "      <td>1</td>\n",
       "      <td>18.93</td>\n",
       "      <td>29.000000</td>\n",
       "      <td>2</td>\n",
       "      <td>N</td>\n",
       "      <td>132</td>\n",
       "      <td>79</td>\n",
       "      <td>132 &gt;&gt; 79</td>\n",
       "      <td>NaN</td>\n",
       "      <td>47.16</td>\n",
       "      <td>2</td>\n",
       "      <td>52.0</td>\n",
       "      <td>0.0</td>\n",
       "      <td>0.5</td>\n",
       "      <td>0.00</td>\n",
       "      <td>0.00</td>\n",
       "      <td>0.3</td>\n",
       "      <td>52.80</td>\n",
       "    </tr>\n",
       "    <tr>\n",
       "      <th>379</th>\n",
       "      <td>2</td>\n",
       "      <td>2017-09-24 23:45:45</td>\n",
       "      <td>2017-09-25 00:15:14</td>\n",
       "      <td>sunday</td>\n",
       "      <td>september</td>\n",
       "      <td>0</td>\n",
       "      <td>1</td>\n",
       "      <td>17.99</td>\n",
       "      <td>29.483333</td>\n",
       "      <td>2</td>\n",
       "      <td>N</td>\n",
       "      <td>132</td>\n",
       "      <td>234</td>\n",
       "      <td>132 &gt;&gt; 234</td>\n",
       "      <td>NaN</td>\n",
       "      <td>49.78</td>\n",
       "      <td>1</td>\n",
       "      <td>52.0</td>\n",
       "      <td>0.0</td>\n",
       "      <td>0.5</td>\n",
       "      <td>14.64</td>\n",
       "      <td>5.76</td>\n",
       "      <td>0.3</td>\n",
       "      <td>73.20</td>\n",
       "    </tr>\n",
       "    <tr>\n",
       "      <th>388</th>\n",
       "      <td>1</td>\n",
       "      <td>2017-02-28 18:30:05</td>\n",
       "      <td>2017-02-28 19:09:55</td>\n",
       "      <td>tuesday</td>\n",
       "      <td>february</td>\n",
       "      <td>1</td>\n",
       "      <td>1</td>\n",
       "      <td>18.40</td>\n",
       "      <td>39.833333</td>\n",
       "      <td>2</td>\n",
       "      <td>N</td>\n",
       "      <td>132</td>\n",
       "      <td>48</td>\n",
       "      <td>132 &gt;&gt; 48</td>\n",
       "      <td>NaN</td>\n",
       "      <td>59.85</td>\n",
       "      <td>2</td>\n",
       "      <td>52.0</td>\n",
       "      <td>4.5</td>\n",
       "      <td>0.5</td>\n",
       "      <td>0.00</td>\n",
       "      <td>5.54</td>\n",
       "      <td>0.3</td>\n",
       "      <td>62.84</td>\n",
       "    </tr>\n",
       "    <tr>\n",
       "      <th>406</th>\n",
       "      <td>2</td>\n",
       "      <td>2017-06-05 12:51:00</td>\n",
       "      <td>2017-06-05 13:07:00</td>\n",
       "      <td>monday</td>\n",
       "      <td>june</td>\n",
       "      <td>0</td>\n",
       "      <td>1</td>\n",
       "      <td>4.73</td>\n",
       "      <td>16.000000</td>\n",
       "      <td>2</td>\n",
       "      <td>N</td>\n",
       "      <td>228</td>\n",
       "      <td>88</td>\n",
       "      <td>228 &gt;&gt; 88</td>\n",
       "      <td>NaN</td>\n",
       "      <td>16.00</td>\n",
       "      <td>2</td>\n",
       "      <td>52.0</td>\n",
       "      <td>0.0</td>\n",
       "      <td>0.5</td>\n",
       "      <td>0.00</td>\n",
       "      <td>5.76</td>\n",
       "      <td>0.3</td>\n",
       "      <td>58.56</td>\n",
       "    </tr>\n",
       "    <tr>\n",
       "      <th>449</th>\n",
       "      <td>2</td>\n",
       "      <td>2017-08-03 22:47:00</td>\n",
       "      <td>2017-08-03 23:32:00</td>\n",
       "      <td>thursday</td>\n",
       "      <td>august</td>\n",
       "      <td>0</td>\n",
       "      <td>2</td>\n",
       "      <td>18.21</td>\n",
       "      <td>45.000000</td>\n",
       "      <td>2</td>\n",
       "      <td>N</td>\n",
       "      <td>132</td>\n",
       "      <td>48</td>\n",
       "      <td>132 &gt;&gt; 48</td>\n",
       "      <td>NaN</td>\n",
       "      <td>59.85</td>\n",
       "      <td>2</td>\n",
       "      <td>52.0</td>\n",
       "      <td>0.0</td>\n",
       "      <td>0.5</td>\n",
       "      <td>0.00</td>\n",
       "      <td>5.76</td>\n",
       "      <td>0.3</td>\n",
       "      <td>58.56</td>\n",
       "    </tr>\n",
       "    <tr>\n",
       "      <th>468</th>\n",
       "      <td>2</td>\n",
       "      <td>2017-09-26 13:48:26</td>\n",
       "      <td>2017-09-26 14:31:17</td>\n",
       "      <td>tuesday</td>\n",
       "      <td>september</td>\n",
       "      <td>0</td>\n",
       "      <td>1</td>\n",
       "      <td>17.27</td>\n",
       "      <td>42.850000</td>\n",
       "      <td>2</td>\n",
       "      <td>N</td>\n",
       "      <td>186</td>\n",
       "      <td>132</td>\n",
       "      <td>186 &gt;&gt; 132</td>\n",
       "      <td>NaN</td>\n",
       "      <td>42.79</td>\n",
       "      <td>2</td>\n",
       "      <td>52.0</td>\n",
       "      <td>0.0</td>\n",
       "      <td>0.5</td>\n",
       "      <td>0.00</td>\n",
       "      <td>5.76</td>\n",
       "      <td>0.3</td>\n",
       "      <td>58.56</td>\n",
       "    </tr>\n",
       "    <tr>\n",
       "      <th>520</th>\n",
       "      <td>2</td>\n",
       "      <td>2017-04-23 21:34:48</td>\n",
       "      <td>2017-04-23 22:46:23</td>\n",
       "      <td>sunday</td>\n",
       "      <td>april</td>\n",
       "      <td>0</td>\n",
       "      <td>6</td>\n",
       "      <td>18.34</td>\n",
       "      <td>71.583333</td>\n",
       "      <td>2</td>\n",
       "      <td>N</td>\n",
       "      <td>132</td>\n",
       "      <td>148</td>\n",
       "      <td>132 &gt;&gt; 148</td>\n",
       "      <td>NaN</td>\n",
       "      <td>46.37</td>\n",
       "      <td>1</td>\n",
       "      <td>52.0</td>\n",
       "      <td>0.0</td>\n",
       "      <td>0.5</td>\n",
       "      <td>5.00</td>\n",
       "      <td>0.00</td>\n",
       "      <td>0.3</td>\n",
       "      <td>57.80</td>\n",
       "    </tr>\n",
       "  </tbody>\n",
       "</table>\n",
       "</div>"
      ],
      "text/plain": [
       "     VendorID tpep_pickup_datetime tpep_dropoff_datetime        day  \\\n",
       "11          2  2017-03-05 19:15:00   2017-03-05 19:52:00     sunday   \n",
       "110         1  2017-06-03 14:24:00   2017-06-03 15:31:00   saturday   \n",
       "161         2  2017-11-11 20:16:00   2017-11-11 20:17:00   saturday   \n",
       "247         2  2017-12-06 23:37:00   2017-12-07 00:06:00  wednesday   \n",
       "379         2  2017-09-24 23:45:45   2017-09-25 00:15:14     sunday   \n",
       "388         1  2017-02-28 18:30:05   2017-02-28 19:09:55    tuesday   \n",
       "406         2  2017-06-05 12:51:00   2017-06-05 13:07:00     monday   \n",
       "449         2  2017-08-03 22:47:00   2017-08-03 23:32:00   thursday   \n",
       "468         2  2017-09-26 13:48:26   2017-09-26 14:31:17    tuesday   \n",
       "520         2  2017-04-23 21:34:48   2017-04-23 22:46:23     sunday   \n",
       "\n",
       "         month  rush_hour  passenger_count  trip_distance  trip_duration  \\\n",
       "11       march          0                2          18.90      37.000000   \n",
       "110       june          0                1          18.00      67.000000   \n",
       "161   november          0                1           0.23       1.000000   \n",
       "247   december          0                1          18.93      29.000000   \n",
       "379  september          0                1          17.99      29.483333   \n",
       "388   february          1                1          18.40      39.833333   \n",
       "406       june          0                1           4.73      16.000000   \n",
       "449     august          0                2          18.21      45.000000   \n",
       "468  september          0                1          17.27      42.850000   \n",
       "520      april          0                6          18.34      71.583333   \n",
       "\n",
       "     RatecodeID store_and_fwd_flag  PULocationID  DOLocationID pickup_dropoff  \\\n",
       "11            2                  N           236           132     236 >> 132   \n",
       "110           2                  N           132           163     132 >> 163   \n",
       "161           2                  N           132           132     132 >> 132   \n",
       "247           2                  N           132            79      132 >> 79   \n",
       "379           2                  N           132           234     132 >> 234   \n",
       "388           2                  N           132            48      132 >> 48   \n",
       "406           2                  N           228            88      228 >> 88   \n",
       "449           2                  N           132            48      132 >> 48   \n",
       "468           2                  N           186           132     186 >> 132   \n",
       "520           2                  N           132           148     132 >> 148   \n",
       "\n",
       "    mean_distance  mean_duration  payment_type  fare_amount  extra  mta_tax  \\\n",
       "11            NaN          46.10             1         52.0    0.0      0.5   \n",
       "110           NaN          53.07             1         52.0    0.0      0.5   \n",
       "161           NaN           3.02             2         52.0    0.0      0.5   \n",
       "247           NaN          47.16             2         52.0    0.0      0.5   \n",
       "379           NaN          49.78             1         52.0    0.0      0.5   \n",
       "388           NaN          59.85             2         52.0    4.5      0.5   \n",
       "406           NaN          16.00             2         52.0    0.0      0.5   \n",
       "449           NaN          59.85             2         52.0    0.0      0.5   \n",
       "468           NaN          42.79             2         52.0    0.0      0.5   \n",
       "520           NaN          46.37             1         52.0    0.0      0.5   \n",
       "\n",
       "     tip_amount  tolls_amount  improvement_surcharge  total_amount  \n",
       "11        14.58          5.54                    0.3         72.92  \n",
       "110        0.00          0.00                    0.3         52.80  \n",
       "161        0.00          0.00                    0.3         52.80  \n",
       "247        0.00          0.00                    0.3         52.80  \n",
       "379       14.64          5.76                    0.3         73.20  \n",
       "388        0.00          5.54                    0.3         62.84  \n",
       "406        0.00          5.76                    0.3         58.56  \n",
       "449        0.00          5.76                    0.3         58.56  \n",
       "468        0.00          5.76                    0.3         58.56  \n",
       "520        5.00          0.00                    0.3         57.80  "
      ]
     },
     "execution_count": 130,
     "metadata": {},
     "output_type": "execute_result"
    }
   ],
   "source": [
    "# Set pandas to display all columns\n",
    "pd.set_option(\"display.max_columns\", None)\n",
    "df1[df1[\"fare_amount\"] == 52].head(10)"
   ]
  },
  {
   "cell_type": "code",
   "execution_count": 131,
   "id": "f1a78855",
   "metadata": {},
   "outputs": [
    {
     "name": "stdout",
     "output_type": "stream",
     "text": [
      "<class 'pandas.core.frame.DataFrame'>\n",
      "RangeIndex: 22699 entries, 0 to 22698\n",
      "Data columns (total 24 columns):\n",
      " #   Column                 Non-Null Count  Dtype         \n",
      "---  ------                 --------------  -----         \n",
      " 0   VendorID               22699 non-null  int64         \n",
      " 1   tpep_pickup_datetime   22699 non-null  datetime64[ns]\n",
      " 2   tpep_dropoff_datetime  22699 non-null  datetime64[ns]\n",
      " 3   day                    22699 non-null  object        \n",
      " 4   month                  22699 non-null  object        \n",
      " 5   rush_hour              22699 non-null  int64         \n",
      " 6   passenger_count        22699 non-null  int64         \n",
      " 7   trip_distance          22699 non-null  float64       \n",
      " 8   trip_duration          22699 non-null  float64       \n",
      " 9   RatecodeID             22699 non-null  int64         \n",
      " 10  store_and_fwd_flag     22699 non-null  object        \n",
      " 11  PULocationID           22699 non-null  int64         \n",
      " 12  DOLocationID           22699 non-null  int64         \n",
      " 13  pickup_dropoff         22699 non-null  object        \n",
      " 14  mean_distance          0 non-null      object        \n",
      " 15  mean_duration          22699 non-null  float64       \n",
      " 16  payment_type           22699 non-null  int64         \n",
      " 17  fare_amount            22699 non-null  float64       \n",
      " 18  extra                  22699 non-null  float64       \n",
      " 19  mta_tax                22699 non-null  float64       \n",
      " 20  tip_amount             22699 non-null  float64       \n",
      " 21  tolls_amount           22699 non-null  float64       \n",
      " 22  improvement_surcharge  22699 non-null  float64       \n",
      " 23  total_amount           22699 non-null  float64       \n",
      "dtypes: datetime64[ns](2), float64(10), int64(7), object(5)\n",
      "memory usage: 4.2+ MB\n"
     ]
    }
   ],
   "source": [
    "df1.info()\n"
   ]
  },
  {
   "cell_type": "code",
   "execution_count": 132,
   "id": "93270787",
   "metadata": {},
   "outputs": [
    {
     "name": "stdout",
     "output_type": "stream",
     "text": [
      "<class 'pandas.core.frame.DataFrame'>\n",
      "RangeIndex: 22699 entries, 0 to 22698\n",
      "Data columns (total 6 columns):\n",
      " #   Column           Non-Null Count  Dtype  \n",
      "---  ------           --------------  -----  \n",
      " 0   VendorID         22699 non-null  int64  \n",
      " 1   rush_hour        22699 non-null  int64  \n",
      " 2   passenger_count  22699 non-null  int64  \n",
      " 3   mean_distance    0 non-null      object \n",
      " 4   mean_duration    22699 non-null  float64\n",
      " 5   fare_amount      22699 non-null  float64\n",
      "dtypes: float64(2), int64(3), object(1)\n",
      "memory usage: 1.0+ MB\n"
     ]
    }
   ],
   "source": [
    "df2 = df1.copy()\n",
    "df2 = df2.drop([\"tpep_pickup_datetime\", \"tpep_dropoff_datetime\", \"day\", \"month\", \"trip_distance\", \n",
    "\"trip_duration\",\\\n",
    " \"store_and_fwd_flag\", \"PULocationID\", \"DOLocationID\", \"pickup_dropoff\", \"payment_type\", \n",
    "\"RatecodeID\",\\\n",
    " \"extra\", \"mta_tax\", \"tip_amount\", \"tolls_amount\", \"improvement_surcharge\", \"total_amount\"], \n",
    "axis= 1)\n",
    "df2.info()"
   ]
  },
  {
   "cell_type": "code",
   "execution_count": 134,
   "id": "d48603a8",
   "metadata": {},
   "outputs": [
    {
     "data": {
      "image/png": "[encoded data removed]",
      "text/plain": [
       "<Figure size 540x540 with 12 Axes>"
      ]
     },
     "metadata": {},
     "output_type": "display_data"
    }
   ],
   "source": [
    "sns.pairplot(data= df2[[\"fare_amount\", \"mean_duration\", \"mean_distance\"]], plot_kws= {\"alpha\": 0.7,\n",
    "                                                                                      \n",
    "\"size\":0.7})\n",
    "plt.show()"
   ]
  },
  {
   "cell_type": "code",
   "execution_count": 135,
   "id": "5a73da89",
   "metadata": {},
   "outputs": [
    {
     "data": {
      "text/html": [
       "<div>\n",
       "<style scoped>\n",
       "    .dataframe tbody tr th:only-of-type {\n",
       "        vertical-align: middle;\n",
       "    }\n",
       "\n",
       "    .dataframe tbody tr th {\n",
       "        vertical-align: top;\n",
       "    }\n",
       "\n",
       "    .dataframe thead th {\n",
       "        text-align: right;\n",
       "    }\n",
       "</style>\n",
       "<table border=\"1\" class=\"dataframe\">\n",
       "  <thead>\n",
       "    <tr style=\"text-align: right;\">\n",
       "      <th></th>\n",
       "      <th>VendorID</th>\n",
       "      <th>rush_hour</th>\n",
       "      <th>passenger_count</th>\n",
       "      <th>mean_duration</th>\n",
       "      <th>fare_amount</th>\n",
       "    </tr>\n",
       "  </thead>\n",
       "  <tbody>\n",
       "    <tr>\n",
       "      <th>VendorID</th>\n",
       "      <td>1.000000</td>\n",
       "      <td>-0.000752</td>\n",
       "      <td>0.265464</td>\n",
       "      <td>0.002441</td>\n",
       "      <td>0.001379</td>\n",
       "    </tr>\n",
       "    <tr>\n",
       "      <th>rush_hour</th>\n",
       "      <td>-0.000752</td>\n",
       "      <td>1.000000</td>\n",
       "      <td>-0.024259</td>\n",
       "      <td>-0.026921</td>\n",
       "      <td>-0.025329</td>\n",
       "    </tr>\n",
       "    <tr>\n",
       "      <th>passenger_count</th>\n",
       "      <td>0.265464</td>\n",
       "      <td>-0.024259</td>\n",
       "      <td>1.000000</td>\n",
       "      <td>0.015731</td>\n",
       "      <td>0.015012</td>\n",
       "    </tr>\n",
       "    <tr>\n",
       "      <th>mean_duration</th>\n",
       "      <td>0.002441</td>\n",
       "      <td>-0.026921</td>\n",
       "      <td>0.015731</td>\n",
       "      <td>1.000000</td>\n",
       "      <td>0.840942</td>\n",
       "    </tr>\n",
       "    <tr>\n",
       "      <th>fare_amount</th>\n",
       "      <td>0.001379</td>\n",
       "      <td>-0.025329</td>\n",
       "      <td>0.015012</td>\n",
       "      <td>0.840942</td>\n",
       "      <td>1.000000</td>\n",
       "    </tr>\n",
       "  </tbody>\n",
       "</table>\n",
       "</div>"
      ],
      "text/plain": [
       "                 VendorID  rush_hour  passenger_count  mean_duration  \\\n",
       "VendorID         1.000000  -0.000752         0.265464       0.002441   \n",
       "rush_hour       -0.000752   1.000000        -0.024259      -0.026921   \n",
       "passenger_count  0.265464  -0.024259         1.000000       0.015731   \n",
       "mean_duration    0.002441  -0.026921         0.015731       1.000000   \n",
       "fare_amount      0.001379  -0.025329         0.015012       0.840942   \n",
       "\n",
       "                 fare_amount  \n",
       "VendorID            0.001379  \n",
       "rush_hour          -0.025329  \n",
       "passenger_count     0.015012  \n",
       "mean_duration       0.840942  \n",
       "fare_amount         1.000000  "
      ]
     },
     "execution_count": 135,
     "metadata": {},
     "output_type": "execute_result"
    }
   ],
   "source": [
    "# Correlation matrix to help determine most correlated variables\n",
    "df2.corr(method= \"pearson\")\n"
   ]
  },
  {
   "cell_type": "code",
   "execution_count": 136,
   "id": "975a0113",
   "metadata": {},
   "outputs": [
    {
     "data": {
      "image/png": "[encoded data removed]",
      "text/plain": [
       "<Figure size 1152x576 with 2 Axes>"
      ]
     },
     "metadata": {},
     "output_type": "display_data"
    }
   ],
   "source": [
    "# Create correlation heatmap\n",
    "plt.figure(figsize= (16, 8))\n",
    "sns.heatmap(data= df2.corr(method= \"pearson\"), vmin= -1, vmax= 1, annot= True, cmap= \"YlGnBu\")\n",
    "plt.show()\n"
   ]
  },
  {
   "cell_type": "code",
   "execution_count": 137,
   "id": "6cfe9339",
   "metadata": {},
   "outputs": [
    {
     "data": {
      "text/html": [
       "<div>\n",
       "<style scoped>\n",
       "    .dataframe tbody tr th:only-of-type {\n",
       "        vertical-align: middle;\n",
       "    }\n",
       "\n",
       "    .dataframe tbody tr th {\n",
       "        vertical-align: top;\n",
       "    }\n",
       "\n",
       "    .dataframe thead th {\n",
       "        text-align: right;\n",
       "    }\n",
       "</style>\n",
       "<table border=\"1\" class=\"dataframe\">\n",
       "  <thead>\n",
       "    <tr style=\"text-align: right;\">\n",
       "      <th></th>\n",
       "      <th>VendorID</th>\n",
       "      <th>rush_hour</th>\n",
       "      <th>passenger_count</th>\n",
       "      <th>mean_distance</th>\n",
       "      <th>mean_duration</th>\n",
       "    </tr>\n",
       "  </thead>\n",
       "  <tbody>\n",
       "    <tr>\n",
       "      <th>0</th>\n",
       "      <td>2</td>\n",
       "      <td>0</td>\n",
       "      <td>6</td>\n",
       "      <td>NaN</td>\n",
       "      <td>22.88</td>\n",
       "    </tr>\n",
       "    <tr>\n",
       "      <th>1</th>\n",
       "      <td>1</td>\n",
       "      <td>0</td>\n",
       "      <td>1</td>\n",
       "      <td>NaN</td>\n",
       "      <td>24.29</td>\n",
       "    </tr>\n",
       "    <tr>\n",
       "      <th>2</th>\n",
       "      <td>1</td>\n",
       "      <td>1</td>\n",
       "      <td>1</td>\n",
       "      <td>NaN</td>\n",
       "      <td>7.26</td>\n",
       "    </tr>\n",
       "  </tbody>\n",
       "</table>\n",
       "</div>"
      ],
      "text/plain": [
       "   VendorID  rush_hour  passenger_count mean_distance  mean_duration\n",
       "0         2          0                6           NaN          22.88\n",
       "1         1          0                1           NaN          24.29\n",
       "2         1          1                1           NaN           7.26"
      ]
     },
     "execution_count": 137,
     "metadata": {},
     "output_type": "execute_result"
    }
   ],
   "source": [
    "#paCe: Construct Stage\n",
    "#Step 4. Model Building\n",
    "#Split data into outcome variable and features\n",
    "# Remove the target column from the features\n",
    "X = df2.drop(columns='fare_amount')\n",
    "# Set y variable\n",
    "y = df2[[\"fare_amount\"]]\n",
    "# Display first few rows\n",
    "X.head(3)"
   ]
  },
  {
   "cell_type": "code",
   "execution_count": 138,
   "id": "2a45bd34",
   "metadata": {},
   "outputs": [
    {
     "data": {
      "text/html": [
       "<div>\n",
       "<style scoped>\n",
       "    .dataframe tbody tr th:only-of-type {\n",
       "        vertical-align: middle;\n",
       "    }\n",
       "\n",
       "    .dataframe tbody tr th {\n",
       "        vertical-align: top;\n",
       "    }\n",
       "\n",
       "    .dataframe thead th {\n",
       "        text-align: right;\n",
       "    }\n",
       "</style>\n",
       "<table border=\"1\" class=\"dataframe\">\n",
       "  <thead>\n",
       "    <tr style=\"text-align: right;\">\n",
       "      <th></th>\n",
       "      <th>rush_hour</th>\n",
       "      <th>passenger_count</th>\n",
       "      <th>mean_duration</th>\n",
       "      <th>VendorID_1</th>\n",
       "      <th>VendorID_2</th>\n",
       "    </tr>\n",
       "  </thead>\n",
       "  <tbody>\n",
       "    <tr>\n",
       "      <th>0</th>\n",
       "      <td>0</td>\n",
       "      <td>6</td>\n",
       "      <td>22.88</td>\n",
       "      <td>0</td>\n",
       "      <td>1</td>\n",
       "    </tr>\n",
       "    <tr>\n",
       "      <th>1</th>\n",
       "      <td>0</td>\n",
       "      <td>1</td>\n",
       "      <td>24.29</td>\n",
       "      <td>1</td>\n",
       "      <td>0</td>\n",
       "    </tr>\n",
       "    <tr>\n",
       "      <th>2</th>\n",
       "      <td>1</td>\n",
       "      <td>1</td>\n",
       "      <td>7.26</td>\n",
       "      <td>1</td>\n",
       "      <td>0</td>\n",
       "    </tr>\n",
       "  </tbody>\n",
       "</table>\n",
       "</div>"
      ],
      "text/plain": [
       "   rush_hour  passenger_count  mean_duration  VendorID_1  VendorID_2\n",
       "0          0                6          22.88           0           1\n",
       "1          0                1          24.29           1           0\n",
       "2          1                1           7.26           1           0"
      ]
     },
     "execution_count": 138,
     "metadata": {},
     "output_type": "execute_result"
    }
   ],
   "source": [
    "#Dummy encode categorical vendorID\n",
    "# Convert VendorID to string\n",
    "X[\"VendorID\"] = X[\"VendorID\"].astype(\"str\")\n",
    "# Get dummies\n",
    "X = pd.get_dummies(X, drop_first= False)\n",
    "X.head(3)\n"
   ]
  },
  {
   "cell_type": "code",
   "execution_count": 140,
   "id": "e1096ae5",
   "metadata": {},
   "outputs": [
    {
     "name": "stdout",
     "output_type": "stream",
     "text": [
      "X_train_scaled:\n",
      " [[-0.77153979 -0.50468931  0.16609815 -0.89286563  0.89286563]\n",
      " [ 1.29610943 -0.50468931 -0.70336919 -0.89286563  0.89286563]\n",
      " [-0.77153979  0.27243722 -0.57192676  1.11998936 -1.11998936]\n",
      " ...\n",
      " [-0.77153979 -0.50468931 -0.66637058  1.11998936 -1.11998936]\n",
      " [ 1.29610943 -0.50468931 -0.84844269  1.11998936 -1.11998936]\n",
      " [-0.77153979  1.82669027  1.1173519  -0.89286563  0.89286563]]\n"
     ]
    }
   ],
   "source": [
    "#Split data into training and testing sets\n",
    "X_train, X_test, y_train, y_test = train_test_split(X, y, test_size= 0.2, random_state= 0)\n",
    "\n",
    "#Modelling Approach [A]: Multiple Linear Regression\n",
    "\n",
    "#Standardize the data\n",
    "\n",
    "# Standardize the X variables\n",
    "scaler = StandardScaler().fit(X_train)\n",
    "X_train_scaled = scaler.transform(X_train)\n",
    "print(\"X_train_scaled:\\n\", X_train_scaled)\n"
   ]
  },
  {
   "cell_type": "code",
   "execution_count": 144,
   "id": "4f9ed8c8",
   "metadata": {},
   "outputs": [
    {
     "name": "stdout",
     "output_type": "stream",
     "text": [
      "R^2: 0.7\n",
      "MAE: 3.19\n",
      "MSE: 35.01\n",
      "RMSE: 5.92\n"
     ]
    }
   ],
   "source": [
    "#Fit the model\n",
    "# Fit your model to the training data\n",
    "mlr = LinearRegression(n_jobs= -1)\n",
    "mlr.fit(X_train_scaled, y_train)\n",
    "LinearRegression(n_jobs=-1)\n",
    "#Evaluate the model\n",
    "def evaluate_regressor(actual, predicted):\n",
    " print(f\"R^2: {round(r2_score(actual, predicted), 2)}\")\n",
    " print(f\"MAE: {round(mean_absolute_error(actual, predicted), 2)}\")\n",
    " print(f\"MSE: {round(mean_squared_error(actual, predicted), 2)}\")\n",
    " print(f\"RMSE: {round(np.sqrt(mean_squared_error(actual, predicted)), 2)}\")\n",
    "y_pred_train_mlr = mlr.predict(X_train_scaled)\n",
    "evaluate_regressor(y_train, y_pred_train_mlr)\n"
   ]
  },
  {
   "cell_type": "code",
   "execution_count": 145,
   "id": "21fc15b9",
   "metadata": {},
   "outputs": [
    {
     "name": "stdout",
     "output_type": "stream",
     "text": [
      "R^2: 0.73\n",
      "MAE: 3.14\n",
      "MSE: 30.6\n",
      "RMSE: 5.53\n"
     ]
    }
   ],
   "source": [
    "X_test_scaled = scaler.transform(X_test)\n",
    "y_pred_test_mlr = mlr.predict(X_test_scaled)\n",
    "evaluate_regressor(y_test, y_pred_test_mlr)\n"
   ]
  },
  {
   "cell_type": "code",
   "execution_count": 147,
   "id": "03e3eadf",
   "metadata": {},
   "outputs": [
    {
     "name": "stdout",
     "output_type": "stream",
     "text": [
      "Coefficients:\n",
      " [[-0.04903668  0.02401547  9.06495823  0.02222505 -0.02222505]]\n"
     ]
    }
   ],
   "source": [
    "#Coefficients for multiple linear regression\n",
    "print(\"Coefficients:\\n\", mlr.coef_)\n"
   ]
  },
  {
   "cell_type": "code",
   "execution_count": 148,
   "id": "fa145959",
   "metadata": {},
   "outputs": [
    {
     "data": {
      "text/html": [
       "<div>\n",
       "<style scoped>\n",
       "    .dataframe tbody tr th:only-of-type {\n",
       "        vertical-align: middle;\n",
       "    }\n",
       "\n",
       "    .dataframe tbody tr th {\n",
       "        vertical-align: top;\n",
       "    }\n",
       "\n",
       "    .dataframe thead th {\n",
       "        text-align: right;\n",
       "    }\n",
       "</style>\n",
       "<table border=\"1\" class=\"dataframe\">\n",
       "  <thead>\n",
       "    <tr style=\"text-align: right;\">\n",
       "      <th></th>\n",
       "      <th>rush_hour</th>\n",
       "      <th>passenger_count</th>\n",
       "      <th>mean_duration</th>\n",
       "      <th>VendorID_1</th>\n",
       "      <th>VendorID_2</th>\n",
       "    </tr>\n",
       "  </thead>\n",
       "  <tbody>\n",
       "    <tr>\n",
       "      <th>0</th>\n",
       "      <td>-4.9037</td>\n",
       "      <td>2.4015</td>\n",
       "      <td>906.4958</td>\n",
       "      <td>2.2225</td>\n",
       "      <td>-2.2225</td>\n",
       "    </tr>\n",
       "  </tbody>\n",
       "</table>\n",
       "</div>"
      ],
      "text/plain": [
       "   rush_hour  passenger_count  mean_duration  VendorID_1  VendorID_2\n",
       "0    -4.9037           2.4015       906.4958      2.2225     -2.2225"
      ]
     },
     "execution_count": 148,
     "metadata": {},
     "output_type": "execute_result"
    }
   ],
   "source": [
    "coefficients = round(pd.DataFrame(data= mlr.coef_, columns= X.columns) * 100, 4)\n",
    "coefficients\n"
   ]
  },
  {
   "cell_type": "code",
   "execution_count": 150,
   "id": "b44b31ea",
   "metadata": {
    "scrolled": false
   },
   "outputs": [
    {
     "name": "stdout",
     "output_type": "stream",
     "text": [
      "10.270938827844677\n",
      "0.24034803841958305\n"
     ]
    }
   ],
   "source": [
    "print(X_train['mean_duration'].std())\n",
    "print(2.4686 / X_train['mean_duration'].std())\n"
   ]
  },
  {
   "cell_type": "code",
   "execution_count": 152,
   "id": "902f4d37",
   "metadata": {},
   "outputs": [
    {
     "ename": "NameError",
     "evalue": "name 'GridSearchCV' is not defined",
     "output_type": "error",
     "traceback": [
      "\u001b[1;31m---------------------------------------------------------------------------\u001b[0m",
      "\u001b[1;31mNameError\u001b[0m                                 Traceback (most recent call last)",
      "\u001b[1;32m<ipython-input-152-85ed2c09adee>\u001b[0m in \u001b[0;36m<module>\u001b[1;34m\u001b[0m\n\u001b[0;32m      5\u001b[0m scoring = [\"explained_variance\", \"neg_mean_absolute_error\", \"neg_mean_squared_error\", \n\u001b[0;32m      6\u001b[0m \"neg_root_mean_squared_error\"]\n\u001b[1;32m----> 7\u001b[1;33m ranfor_cv = GridSearchCV(estimator= ranfor_reg, param_grid= cv_params, scoring= scoring, cv= 5, refit=\n\u001b[0m\u001b[0;32m      8\u001b[0m \"explained_variance\", n_jobs= -1, verbose= 2)\n\u001b[0;32m      9\u001b[0m \u001b[0mget_ipython\u001b[0m\u001b[1;33m(\u001b[0m\u001b[1;33m)\u001b[0m\u001b[1;33m.\u001b[0m\u001b[0mrun_line_magic\u001b[0m\u001b[1;33m(\u001b[0m\u001b[1;34m'%time'\u001b[0m\u001b[1;33m,\u001b[0m \u001b[1;34m''\u001b[0m\u001b[1;33m)\u001b[0m\u001b[1;33m\u001b[0m\u001b[1;33m\u001b[0m\u001b[0m\n",
      "\u001b[1;31mNameError\u001b[0m: name 'GridSearchCV' is not defined"
     ]
    }
   ],
   "source": [
    "#Modelling Approach [B]: Random Forest Regressor\n",
    "ranfor_reg = RandomForestRegressor(random_state= 17)\n",
    "cv_params = {\"max_depth\": [4, 6, 8, 10], \"min_samples_leaf\": [1, 2, 3, 4], \"n_estimators\": [100, 150, 200, \n",
    "250]}\n",
    "scoring = [\"explained_variance\", \"neg_mean_absolute_error\", \"neg_mean_squared_error\", \n",
    "\"neg_root_mean_squared_error\"]\n",
    "ranfor_cv = GridSearchCV(estimator= ranfor_reg, param_grid= cv_params, scoring= scoring, cv= 5, refit=\n",
    "\"explained_variance\", n_jobs= -1, verbose= 2)\n",
    "%%time\n",
    "ranfor_cv.fit(X_train, y_train)\n"
   ]
  },
  {
   "cell_type": "code",
   "execution_count": null,
   "id": "9874c42c",
   "metadata": {},
   "outputs": [],
   "source": []
  }
 ],
 "metadata": {
  "kernelspec": {
   "display_name": "Python 3",
   "language": "python",
   "name": "python3"
  },
  "language_info": {
   "codemirror_mode": {
    "name": "ipython",
    "version": 3
   },
   "file_extension": ".py",
   "mimetype": "text/x-python",
   "name": "python",
   "nbconvert_exporter": "python",
   "pygments_lexer": "ipython3",
   "version": "3.8.8"
  }
 },
 "nbformat": 4,
 "nbformat_minor": 5
}
